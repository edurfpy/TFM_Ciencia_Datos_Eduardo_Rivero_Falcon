{
 "cells": [
  {
   "cell_type": "markdown",
   "metadata": {},
   "source": [
    "## CARGA Y PROCESADO TABLAS CON DATOS FALTANTES"
   ]
  },
  {
   "cell_type": "markdown",
   "metadata": {},
   "source": [
    "### Librerías necesarias"
   ]
  },
  {
   "cell_type": "code",
   "execution_count": 1,
   "metadata": {},
   "outputs": [],
   "source": [
    "import numpy as np\n",
    "import pandas as pd\n",
    "import os"
   ]
  },
  {
   "cell_type": "code",
   "execution_count": null,
   "metadata": {},
   "outputs": [],
   "source": []
  },
  {
   "cell_type": "markdown",
   "metadata": {},
   "source": [
    "**Constante para comprobación**"
   ]
  },
  {
   "cell_type": "code",
   "execution_count": 4,
   "metadata": {},
   "outputs": [],
   "source": [
    "PAISES_ESTUDIO = {'Austria','Belgium','Bulgaria','Croatia','Cyprus','Czechia','Denmark','Estonia','Finland','France', \\\n",
    "                  'Germany (until 1990 former territory of the FRG)','Greece','Hungary','Iceland','Ireland','Italy', \\\n",
    "                  'Latvia','Lithuania','Luxembourg','Malta','Netherlands','Norway','Poland','Portugal','Romania', \\\n",
    "                  'Slovakia','Slovenia','Spain','Sweden','Turkey','United Kingdom'}"
   ]
  },
  {
   "cell_type": "code",
   "execution_count": null,
   "metadata": {},
   "outputs": [],
   "source": []
  },
  {
   "cell_type": "markdown",
   "metadata": {},
   "source": [
    "### Variable Physical Activity (actividad fisica)"
   ]
  },
  {
   "cell_type": "markdown",
   "metadata": {},
   "source": [
    "Cargamos archivo:"
   ]
  },
  {
   "cell_type": "code",
   "execution_count": 2,
   "metadata": {
    "scrolled": true
   },
   "outputs": [
    {
     "name": "stdout",
     "output_type": "stream",
     "text": [
      "<class 'pandas.core.frame.DataFrame'>\n",
      "RangeIndex: 300 entries, 0 to 299\n",
      "Data columns (total 9 columns):\n",
      "PHYSACT               300 non-null object\n",
      "GEO                   300 non-null object\n",
      "UNIT                  300 non-null object\n",
      "TIME                  300 non-null int64\n",
      "ISCED11               300 non-null object\n",
      "SEX                   300 non-null object\n",
      "AGE                   300 non-null object\n",
      "Value                 298 non-null float64\n",
      "Flag and Footnotes    0 non-null float64\n",
      "dtypes: float64(2), int64(1), object(6)\n",
      "memory usage: 21.2+ KB\n"
     ]
    }
   ],
   "source": [
    "df_physact = pd.read_csv('./data/origen/hlth_ehis_pe9e_1_Data.csv', na_values = [': u',':'])\n",
    "df_physact.info()"
   ]
  },
  {
   "cell_type": "code",
   "execution_count": 10,
   "metadata": {},
   "outputs": [
    {
     "data": {
      "text/html": [
       "<div>\n",
       "<style scoped>\n",
       "    .dataframe tbody tr th:only-of-type {\n",
       "        vertical-align: middle;\n",
       "    }\n",
       "\n",
       "    .dataframe tbody tr th {\n",
       "        vertical-align: top;\n",
       "    }\n",
       "\n",
       "    .dataframe thead th {\n",
       "        text-align: right;\n",
       "    }\n",
       "</style>\n",
       "<table border=\"1\" class=\"dataframe\">\n",
       "  <thead>\n",
       "    <tr style=\"text-align: right;\">\n",
       "      <th></th>\n",
       "      <th>PHYSACT</th>\n",
       "      <th>GEO</th>\n",
       "      <th>UNIT</th>\n",
       "      <th>TIME</th>\n",
       "      <th>ISCED11</th>\n",
       "      <th>SEX</th>\n",
       "      <th>AGE</th>\n",
       "      <th>Value</th>\n",
       "      <th>Flag and Footnotes</th>\n",
       "    </tr>\n",
       "  </thead>\n",
       "  <tbody>\n",
       "    <tr>\n",
       "      <th>0</th>\n",
       "      <td>Aerobic and muscle-strengthening</td>\n",
       "      <td>Belgium</td>\n",
       "      <td>Percentage</td>\n",
       "      <td>2014</td>\n",
       "      <td>All ISCED 2011 levels</td>\n",
       "      <td>Males</td>\n",
       "      <td>From 15 to 24 years</td>\n",
       "      <td>25.2</td>\n",
       "      <td>NaN</td>\n",
       "    </tr>\n",
       "    <tr>\n",
       "      <th>1</th>\n",
       "      <td>Aerobic and muscle-strengthening</td>\n",
       "      <td>Belgium</td>\n",
       "      <td>Percentage</td>\n",
       "      <td>2014</td>\n",
       "      <td>All ISCED 2011 levels</td>\n",
       "      <td>Males</td>\n",
       "      <td>From 25 to 34 years</td>\n",
       "      <td>11.5</td>\n",
       "      <td>NaN</td>\n",
       "    </tr>\n",
       "    <tr>\n",
       "      <th>2</th>\n",
       "      <td>Aerobic and muscle-strengthening</td>\n",
       "      <td>Belgium</td>\n",
       "      <td>Percentage</td>\n",
       "      <td>2014</td>\n",
       "      <td>All ISCED 2011 levels</td>\n",
       "      <td>Males</td>\n",
       "      <td>From 35 to 44 years</td>\n",
       "      <td>7.7</td>\n",
       "      <td>NaN</td>\n",
       "    </tr>\n",
       "    <tr>\n",
       "      <th>3</th>\n",
       "      <td>Aerobic and muscle-strengthening</td>\n",
       "      <td>Belgium</td>\n",
       "      <td>Percentage</td>\n",
       "      <td>2014</td>\n",
       "      <td>All ISCED 2011 levels</td>\n",
       "      <td>Males</td>\n",
       "      <td>From 45 to 64 years</td>\n",
       "      <td>5.5</td>\n",
       "      <td>NaN</td>\n",
       "    </tr>\n",
       "    <tr>\n",
       "      <th>4</th>\n",
       "      <td>Aerobic and muscle-strengthening</td>\n",
       "      <td>Belgium</td>\n",
       "      <td>Percentage</td>\n",
       "      <td>2014</td>\n",
       "      <td>All ISCED 2011 levels</td>\n",
       "      <td>Males</td>\n",
       "      <td>65 years or over</td>\n",
       "      <td>NaN</td>\n",
       "      <td>NaN</td>\n",
       "    </tr>\n",
       "  </tbody>\n",
       "</table>\n",
       "</div>"
      ],
      "text/plain": [
       "                            PHYSACT      GEO        UNIT  TIME  \\\n",
       "0  Aerobic and muscle-strengthening  Belgium  Percentage  2014   \n",
       "1  Aerobic and muscle-strengthening  Belgium  Percentage  2014   \n",
       "2  Aerobic and muscle-strengthening  Belgium  Percentage  2014   \n",
       "3  Aerobic and muscle-strengthening  Belgium  Percentage  2014   \n",
       "4  Aerobic and muscle-strengthening  Belgium  Percentage  2014   \n",
       "\n",
       "                  ISCED11    SEX                  AGE  Value  \\\n",
       "0  All ISCED 2011 levels   Males  From 15 to 24 years   25.2   \n",
       "1  All ISCED 2011 levels   Males  From 25 to 34 years   11.5   \n",
       "2  All ISCED 2011 levels   Males  From 35 to 44 years    7.7   \n",
       "3  All ISCED 2011 levels   Males  From 45 to 64 years    5.5   \n",
       "4  All ISCED 2011 levels   Males     65 years or over    NaN   \n",
       "\n",
       "   Flag and Footnotes  \n",
       "0                 NaN  \n",
       "1                 NaN  \n",
       "2                 NaN  \n",
       "3                 NaN  \n",
       "4                 NaN  "
      ]
     },
     "execution_count": 10,
     "metadata": {},
     "output_type": "execute_result"
    }
   ],
   "source": [
    "df_physact.head()"
   ]
  },
  {
   "cell_type": "code",
   "execution_count": null,
   "metadata": {},
   "outputs": [],
   "source": []
  },
  {
   "cell_type": "markdown",
   "metadata": {},
   "source": [
    "**Los dos faltantes aparecen para Belgica, ambos sexos, mayor de 65 años.**"
   ]
  },
  {
   "cell_type": "code",
   "execution_count": 8,
   "metadata": {},
   "outputs": [
    {
     "data": {
      "text/html": [
       "<div>\n",
       "<style scoped>\n",
       "    .dataframe tbody tr th:only-of-type {\n",
       "        vertical-align: middle;\n",
       "    }\n",
       "\n",
       "    .dataframe tbody tr th {\n",
       "        vertical-align: top;\n",
       "    }\n",
       "\n",
       "    .dataframe thead th {\n",
       "        text-align: right;\n",
       "    }\n",
       "</style>\n",
       "<table border=\"1\" class=\"dataframe\">\n",
       "  <thead>\n",
       "    <tr style=\"text-align: right;\">\n",
       "      <th></th>\n",
       "      <th>PHYSACT</th>\n",
       "      <th>GEO</th>\n",
       "      <th>UNIT</th>\n",
       "      <th>TIME</th>\n",
       "      <th>ISCED11</th>\n",
       "      <th>SEX</th>\n",
       "      <th>AGE</th>\n",
       "      <th>Value</th>\n",
       "      <th>Flag and Footnotes</th>\n",
       "    </tr>\n",
       "  </thead>\n",
       "  <tbody>\n",
       "    <tr>\n",
       "      <th>4</th>\n",
       "      <td>Aerobic and muscle-strengthening</td>\n",
       "      <td>Belgium</td>\n",
       "      <td>Percentage</td>\n",
       "      <td>2014</td>\n",
       "      <td>All ISCED 2011 levels</td>\n",
       "      <td>Males</td>\n",
       "      <td>65 years or over</td>\n",
       "      <td>NaN</td>\n",
       "      <td>NaN</td>\n",
       "    </tr>\n",
       "    <tr>\n",
       "      <th>9</th>\n",
       "      <td>Aerobic and muscle-strengthening</td>\n",
       "      <td>Belgium</td>\n",
       "      <td>Percentage</td>\n",
       "      <td>2014</td>\n",
       "      <td>All ISCED 2011 levels</td>\n",
       "      <td>Females</td>\n",
       "      <td>65 years or over</td>\n",
       "      <td>NaN</td>\n",
       "      <td>NaN</td>\n",
       "    </tr>\n",
       "  </tbody>\n",
       "</table>\n",
       "</div>"
      ],
      "text/plain": [
       "                            PHYSACT      GEO        UNIT  TIME  \\\n",
       "4  Aerobic and muscle-strengthening  Belgium  Percentage  2014   \n",
       "9  Aerobic and muscle-strengthening  Belgium  Percentage  2014   \n",
       "\n",
       "                  ISCED11      SEX               AGE  Value  \\\n",
       "4  All ISCED 2011 levels     Males  65 years or over    NaN   \n",
       "9  All ISCED 2011 levels   Females  65 years or over    NaN   \n",
       "\n",
       "   Flag and Footnotes  \n",
       "4                 NaN  \n",
       "9                 NaN  "
      ]
     },
     "execution_count": 8,
     "metadata": {},
     "output_type": "execute_result"
    }
   ],
   "source": [
    "df_physact[df_physact.Value.isnull()]"
   ]
  },
  {
   "cell_type": "code",
   "execution_count": null,
   "metadata": {},
   "outputs": [],
   "source": []
  },
  {
   "cell_type": "markdown",
   "metadata": {},
   "source": [
    "**Aparte no tiene datos de Holanda**"
   ]
  },
  {
   "cell_type": "code",
   "execution_count": 9,
   "metadata": {},
   "outputs": [
    {
     "data": {
      "text/plain": [
       "{'Netherlands'}"
      ]
     },
     "execution_count": 9,
     "metadata": {},
     "output_type": "execute_result"
    }
   ],
   "source": [
    "PAISES_ESTUDIO - set(df_physact.GEO.unique())"
   ]
  },
  {
   "cell_type": "code",
   "execution_count": null,
   "metadata": {},
   "outputs": [],
   "source": []
  },
  {
   "cell_type": "markdown",
   "metadata": {},
   "source": [
    "### Datos faltantes:\n",
    "\n",
    "Busqueda de datos por internet de una fuente de confianza, arrojo datos de la oficina europea de la agencia WHO:\n",
    "\n",
    "https://www.euro.who.int/__data/assets/pdf_file/0011/382574/netherlands-eng.pdf\n",
    "\n",
    "https://www.euro.who.int/__data/assets/pdf_file/0010/382339/belgium-eng.pdf\n",
    "\n",
    "\n",
    "**Estos datos no estan estratificados en los mismos grupos de edad de la tabla de Eurostat**\n"
   ]
  },
  {
   "cell_type": "code",
   "execution_count": null,
   "metadata": {},
   "outputs": [],
   "source": []
  },
  {
   "cell_type": "markdown",
   "metadata": {},
   "source": [
    "**Tomamos uno de los archivos ya procesados correctamente como referencia para las dimensiones y el orden de nuestro formato:**"
   ]
  },
  {
   "cell_type": "code",
   "execution_count": 72,
   "metadata": {},
   "outputs": [
    {
     "name": "stdout",
     "output_type": "stream",
     "text": [
      "<class 'pandas.core.frame.DataFrame'>\n",
      "RangeIndex: 310 entries, 0 to 309\n",
      "Data columns (total 6 columns):\n",
      "GEO                310 non-null object\n",
      "SEX                310 non-null object\n",
      "AGE                310 non-null object\n",
      "BMI_Underweight    310 non-null float64\n",
      "BMI_Normal         310 non-null float64\n",
      "BMI_Overweight     310 non-null float64\n",
      "dtypes: float64(3), object(3)\n",
      "memory usage: 14.7+ KB\n"
     ]
    }
   ],
   "source": [
    "df_referencia = pd.read_csv('./data/procesado/base_BMI.csv')\n",
    "df_referencia.info()\n"
   ]
  },
  {
   "cell_type": "code",
   "execution_count": 73,
   "metadata": {},
   "outputs": [
    {
     "data": {
      "text/plain": [
       "Index(['GEO', 'SEX', 'AGE'], dtype='object')"
      ]
     },
     "execution_count": 73,
     "metadata": {},
     "output_type": "execute_result"
    }
   ],
   "source": [
    "df_referencia = df_referencia[['GEO', 'SEX', 'AGE']]\n",
    "df_referencia.columns"
   ]
  },
  {
   "cell_type": "code",
   "execution_count": null,
   "metadata": {},
   "outputs": [],
   "source": []
  },
  {
   "cell_type": "markdown",
   "metadata": {},
   "source": [
    "**Creamos variable auxiliar para formar la columna que añadiremos a las dimensiones, con los valores correctos y nuestro orden:**"
   ]
  },
  {
   "cell_type": "code",
   "execution_count": 74,
   "metadata": {},
   "outputs": [
    {
     "name": "stdout",
     "output_type": "stream",
     "text": [
      "<class 'pandas.core.frame.DataFrame'>\n",
      "RangeIndex: 310 entries, 0 to 309\n",
      "Data columns (total 4 columns):\n",
      "GEO                  310 non-null object\n",
      "SEX                  310 non-null object\n",
      "AGE                  310 non-null object\n",
      "Physical_activity    298 non-null float64\n",
      "dtypes: float64(1), object(3)\n",
      "memory usage: 9.8+ KB\n"
     ]
    }
   ],
   "source": [
    "# inicialización variable auxiliar, columna a añadir\n",
    "col_phys_act = []\n",
    "\n",
    "# rellenamos la variable con los datos existentes y los huecos faltantes\n",
    "for registro in df_referencia.itertuples():\n",
    "    \n",
    "    consulta = df_physact.loc[(df_physact.GEO==registro.GEO) & (df_physact.SEX==registro.SEX) & \\\n",
    "                                 (df_physact.AGE==registro.AGE),'Value'].values\n",
    "    \n",
    "    \n",
    "    if len(consulta) == 0:\n",
    "        \n",
    "        # dato faltante, rellenamos cno NAN para posterior procesado (corrección)\n",
    "        valor = np.NaN\n",
    "        \n",
    "    else:\n",
    "        \n",
    "        # dato existente válido\n",
    "        valor = consulta[0]\n",
    "        \n",
    "    col_phys_act.append(valor)\n",
    "    \n",
    "\n",
    "# creada la nueva columna, la añadimos:    \n",
    "df_referencia['Physical_activity'] = col_phys_act\n",
    "\n",
    "df_referencia.info()\n",
    "    \n"
   ]
  },
  {
   "cell_type": "code",
   "execution_count": null,
   "metadata": {},
   "outputs": [],
   "source": []
  },
  {
   "cell_type": "markdown",
   "metadata": {},
   "source": [
    "**Detectamos los nulos:**:"
   ]
  },
  {
   "cell_type": "code",
   "execution_count": 75,
   "metadata": {},
   "outputs": [
    {
     "data": {
      "text/html": [
       "<div>\n",
       "<style scoped>\n",
       "    .dataframe tbody tr th:only-of-type {\n",
       "        vertical-align: middle;\n",
       "    }\n",
       "\n",
       "    .dataframe tbody tr th {\n",
       "        vertical-align: top;\n",
       "    }\n",
       "\n",
       "    .dataframe thead th {\n",
       "        text-align: right;\n",
       "    }\n",
       "</style>\n",
       "<table border=\"1\" class=\"dataframe\">\n",
       "  <thead>\n",
       "    <tr style=\"text-align: right;\">\n",
       "      <th></th>\n",
       "      <th>GEO</th>\n",
       "      <th>SEX</th>\n",
       "      <th>AGE</th>\n",
       "      <th>Physical_activity</th>\n",
       "    </tr>\n",
       "  </thead>\n",
       "  <tbody>\n",
       "    <tr>\n",
       "      <th>4</th>\n",
       "      <td>Belgium</td>\n",
       "      <td>Males</td>\n",
       "      <td>65 years or over</td>\n",
       "      <td>NaN</td>\n",
       "    </tr>\n",
       "    <tr>\n",
       "      <th>9</th>\n",
       "      <td>Belgium</td>\n",
       "      <td>Females</td>\n",
       "      <td>65 years or over</td>\n",
       "      <td>NaN</td>\n",
       "    </tr>\n",
       "    <tr>\n",
       "      <th>180</th>\n",
       "      <td>Netherlands</td>\n",
       "      <td>Males</td>\n",
       "      <td>From 15 to 24 years</td>\n",
       "      <td>NaN</td>\n",
       "    </tr>\n",
       "    <tr>\n",
       "      <th>181</th>\n",
       "      <td>Netherlands</td>\n",
       "      <td>Males</td>\n",
       "      <td>From 25 to 34 years</td>\n",
       "      <td>NaN</td>\n",
       "    </tr>\n",
       "    <tr>\n",
       "      <th>182</th>\n",
       "      <td>Netherlands</td>\n",
       "      <td>Males</td>\n",
       "      <td>From 35 to 44 years</td>\n",
       "      <td>NaN</td>\n",
       "    </tr>\n",
       "    <tr>\n",
       "      <th>183</th>\n",
       "      <td>Netherlands</td>\n",
       "      <td>Males</td>\n",
       "      <td>From 45 to 64 years</td>\n",
       "      <td>NaN</td>\n",
       "    </tr>\n",
       "    <tr>\n",
       "      <th>184</th>\n",
       "      <td>Netherlands</td>\n",
       "      <td>Males</td>\n",
       "      <td>65 years or over</td>\n",
       "      <td>NaN</td>\n",
       "    </tr>\n",
       "    <tr>\n",
       "      <th>185</th>\n",
       "      <td>Netherlands</td>\n",
       "      <td>Females</td>\n",
       "      <td>From 15 to 24 years</td>\n",
       "      <td>NaN</td>\n",
       "    </tr>\n",
       "    <tr>\n",
       "      <th>186</th>\n",
       "      <td>Netherlands</td>\n",
       "      <td>Females</td>\n",
       "      <td>From 25 to 34 years</td>\n",
       "      <td>NaN</td>\n",
       "    </tr>\n",
       "    <tr>\n",
       "      <th>187</th>\n",
       "      <td>Netherlands</td>\n",
       "      <td>Females</td>\n",
       "      <td>From 35 to 44 years</td>\n",
       "      <td>NaN</td>\n",
       "    </tr>\n",
       "    <tr>\n",
       "      <th>188</th>\n",
       "      <td>Netherlands</td>\n",
       "      <td>Females</td>\n",
       "      <td>From 45 to 64 years</td>\n",
       "      <td>NaN</td>\n",
       "    </tr>\n",
       "    <tr>\n",
       "      <th>189</th>\n",
       "      <td>Netherlands</td>\n",
       "      <td>Females</td>\n",
       "      <td>65 years or over</td>\n",
       "      <td>NaN</td>\n",
       "    </tr>\n",
       "  </tbody>\n",
       "</table>\n",
       "</div>"
      ],
      "text/plain": [
       "             GEO      SEX                  AGE  Physical_activity\n",
       "4        Belgium    Males     65 years or over                NaN\n",
       "9        Belgium  Females     65 years or over                NaN\n",
       "180  Netherlands    Males  From 15 to 24 years                NaN\n",
       "181  Netherlands    Males  From 25 to 34 years                NaN\n",
       "182  Netherlands    Males  From 35 to 44 years                NaN\n",
       "183  Netherlands    Males  From 45 to 64 years                NaN\n",
       "184  Netherlands    Males     65 years or over                NaN\n",
       "185  Netherlands  Females  From 15 to 24 years                NaN\n",
       "186  Netherlands  Females  From 25 to 34 years                NaN\n",
       "187  Netherlands  Females  From 35 to 44 years                NaN\n",
       "188  Netherlands  Females  From 45 to 64 years                NaN\n",
       "189  Netherlands  Females     65 years or over                NaN"
      ]
     },
     "execution_count": 75,
     "metadata": {},
     "output_type": "execute_result"
    }
   ],
   "source": [
    "df_referencia[df_referencia.Physical_activity.isnull()]"
   ]
  },
  {
   "cell_type": "markdown",
   "metadata": {},
   "source": [
    "- En el caso de **Belgica** para la fuente citada, tiene los datos de la franja de edad faltante pero no diferenciada por sexos. Tomando como referencia un pais del entorno con similar situación socioeconomica y extension como Dinamarca:"
   ]
  },
  {
   "cell_type": "code",
   "execution_count": 76,
   "metadata": {},
   "outputs": [
    {
     "data": {
      "text/html": [
       "<div>\n",
       "<style scoped>\n",
       "    .dataframe tbody tr th:only-of-type {\n",
       "        vertical-align: middle;\n",
       "    }\n",
       "\n",
       "    .dataframe tbody tr th {\n",
       "        vertical-align: top;\n",
       "    }\n",
       "\n",
       "    .dataframe thead th {\n",
       "        text-align: right;\n",
       "    }\n",
       "</style>\n",
       "<table border=\"1\" class=\"dataframe\">\n",
       "  <thead>\n",
       "    <tr style=\"text-align: right;\">\n",
       "      <th></th>\n",
       "      <th>GEO</th>\n",
       "      <th>SEX</th>\n",
       "      <th>AGE</th>\n",
       "      <th>Physical_activity</th>\n",
       "    </tr>\n",
       "  </thead>\n",
       "  <tbody>\n",
       "    <tr>\n",
       "      <th>34</th>\n",
       "      <td>Denmark</td>\n",
       "      <td>Males</td>\n",
       "      <td>65 years or over</td>\n",
       "      <td>20.1</td>\n",
       "    </tr>\n",
       "    <tr>\n",
       "      <th>39</th>\n",
       "      <td>Denmark</td>\n",
       "      <td>Females</td>\n",
       "      <td>65 years or over</td>\n",
       "      <td>21.4</td>\n",
       "    </tr>\n",
       "  </tbody>\n",
       "</table>\n",
       "</div>"
      ],
      "text/plain": [
       "        GEO      SEX               AGE  Physical_activity\n",
       "34  Denmark    Males  65 years or over               20.1\n",
       "39  Denmark  Females  65 years or over               21.4"
      ]
     },
     "execution_count": 76,
     "metadata": {},
     "output_type": "execute_result"
    }
   ],
   "source": [
    "df_referencia.loc[(df_referencia.GEO=='Denmark') & (df_referencia.AGE=='65 years or over')]"
   ]
  },
  {
   "cell_type": "markdown",
   "metadata": {},
   "source": [
    "Vemos que no hay diferencia considerable (solo algo más del punto porcentual) entre sexos. Por lo cual decidimos poner el mismo valor para ambos."
   ]
  },
  {
   "cell_type": "code",
   "execution_count": 77,
   "metadata": {},
   "outputs": [],
   "source": [
    "# indices de las observaciones a corregir\n",
    "idx_Bel_M = df_referencia[(df_referencia.GEO=='Belgium') & (df_referencia.AGE=='65 years or over') & \\\n",
    "                          (df_referencia.SEX=='Males')].index.values[0]\n",
    "\n",
    "idx_Bel_F = df_referencia[(df_referencia.GEO=='Belgium') & (df_referencia.AGE=='65 years or over') & \\\n",
    "                          (df_referencia.SEX=='Females')].index.values[0]\n",
    "\n",
    "\n",
    "# corrección\n",
    "df_referencia.loc[idx_Bel_F,'Physical_activity'] = 42\n",
    "df_referencia.loc[idx_Bel_M,'Physical_activity'] = 42\n"
   ]
  },
  {
   "cell_type": "code",
   "execution_count": 78,
   "metadata": {},
   "outputs": [
    {
     "data": {
      "text/html": [
       "<div>\n",
       "<style scoped>\n",
       "    .dataframe tbody tr th:only-of-type {\n",
       "        vertical-align: middle;\n",
       "    }\n",
       "\n",
       "    .dataframe tbody tr th {\n",
       "        vertical-align: top;\n",
       "    }\n",
       "\n",
       "    .dataframe thead th {\n",
       "        text-align: right;\n",
       "    }\n",
       "</style>\n",
       "<table border=\"1\" class=\"dataframe\">\n",
       "  <thead>\n",
       "    <tr style=\"text-align: right;\">\n",
       "      <th></th>\n",
       "      <th>GEO</th>\n",
       "      <th>SEX</th>\n",
       "      <th>AGE</th>\n",
       "      <th>Physical_activity</th>\n",
       "    </tr>\n",
       "  </thead>\n",
       "  <tbody>\n",
       "    <tr>\n",
       "      <th>4</th>\n",
       "      <td>Belgium</td>\n",
       "      <td>Males</td>\n",
       "      <td>65 years or over</td>\n",
       "      <td>42.0</td>\n",
       "    </tr>\n",
       "    <tr>\n",
       "      <th>9</th>\n",
       "      <td>Belgium</td>\n",
       "      <td>Females</td>\n",
       "      <td>65 years or over</td>\n",
       "      <td>42.0</td>\n",
       "    </tr>\n",
       "  </tbody>\n",
       "</table>\n",
       "</div>"
      ],
      "text/plain": [
       "       GEO      SEX               AGE  Physical_activity\n",
       "4  Belgium    Males  65 years or over               42.0\n",
       "9  Belgium  Females  65 years or over               42.0"
      ]
     },
     "execution_count": 78,
     "metadata": {},
     "output_type": "execute_result"
    }
   ],
   "source": [
    "df_referencia.loc[(df_referencia.GEO=='Belgium') & (df_referencia.AGE=='65 years or over')]"
   ]
  },
  {
   "cell_type": "code",
   "execution_count": null,
   "metadata": {},
   "outputs": [],
   "source": []
  },
  {
   "cell_type": "markdown",
   "metadata": {},
   "source": [
    "- En el caso de **Holanda** faltan todos los datos, por sexo y por grupos de edad. Los datos de la fuente citada los proporciona distinguiendo entre sexos pero con grupos de edad distintos. El grupo de edad (18-64 años) de la fuente se corresponde con 4 grupos de nuestro estudio (el quinto si es correcto). Tomando de nuevo como referencia un pais del entorno con condiciones similares como Dinamarca, vemos el reparto por grupos:"
   ]
  },
  {
   "cell_type": "code",
   "execution_count": 79,
   "metadata": {},
   "outputs": [
    {
     "data": {
      "text/html": [
       "<div>\n",
       "<style scoped>\n",
       "    .dataframe tbody tr th:only-of-type {\n",
       "        vertical-align: middle;\n",
       "    }\n",
       "\n",
       "    .dataframe tbody tr th {\n",
       "        vertical-align: top;\n",
       "    }\n",
       "\n",
       "    .dataframe thead th {\n",
       "        text-align: right;\n",
       "    }\n",
       "</style>\n",
       "<table border=\"1\" class=\"dataframe\">\n",
       "  <thead>\n",
       "    <tr style=\"text-align: right;\">\n",
       "      <th></th>\n",
       "      <th>GEO</th>\n",
       "      <th>SEX</th>\n",
       "      <th>AGE</th>\n",
       "      <th>Physical_activity</th>\n",
       "    </tr>\n",
       "  </thead>\n",
       "  <tbody>\n",
       "    <tr>\n",
       "      <th>30</th>\n",
       "      <td>Denmark</td>\n",
       "      <td>Males</td>\n",
       "      <td>From 15 to 24 years</td>\n",
       "      <td>48.1</td>\n",
       "    </tr>\n",
       "    <tr>\n",
       "      <th>31</th>\n",
       "      <td>Denmark</td>\n",
       "      <td>Males</td>\n",
       "      <td>From 25 to 34 years</td>\n",
       "      <td>28.4</td>\n",
       "    </tr>\n",
       "    <tr>\n",
       "      <th>32</th>\n",
       "      <td>Denmark</td>\n",
       "      <td>Males</td>\n",
       "      <td>From 35 to 44 years</td>\n",
       "      <td>22.6</td>\n",
       "    </tr>\n",
       "    <tr>\n",
       "      <th>33</th>\n",
       "      <td>Denmark</td>\n",
       "      <td>Males</td>\n",
       "      <td>From 45 to 64 years</td>\n",
       "      <td>21.6</td>\n",
       "    </tr>\n",
       "  </tbody>\n",
       "</table>\n",
       "</div>"
      ],
      "text/plain": [
       "        GEO    SEX                  AGE  Physical_activity\n",
       "30  Denmark  Males  From 15 to 24 years               48.1\n",
       "31  Denmark  Males  From 25 to 34 years               28.4\n",
       "32  Denmark  Males  From 35 to 44 years               22.6\n",
       "33  Denmark  Males  From 45 to 64 years               21.6"
      ]
     },
     "execution_count": 79,
     "metadata": {},
     "output_type": "execute_result"
    }
   ],
   "source": [
    "df_referencia.loc[(df_referencia.GEO == 'Denmark') & (df_referencia.AGE != '65 years or over') & \\\n",
    "                 (df_referencia.SEX == 'Males')]"
   ]
  },
  {
   "cell_type": "markdown",
   "metadata": {},
   "source": [
    "Recuperamos los valores de la referencia por sexo para cada grupo de edad (todos menos el de 65+):"
   ]
  },
  {
   "cell_type": "code",
   "execution_count": 80,
   "metadata": {},
   "outputs": [],
   "source": [
    "valores_Denmk_Males = df_referencia.loc[(df_referencia.GEO == 'Denmark') & (df_referencia.AGE != '65 years or over') & \\\n",
    "                 (df_referencia.SEX == 'Males'),'Physical_activity'].values\n",
    "\n",
    "valores_Denmk_Females = df_referencia.loc[(df_referencia.GEO == 'Denmark') & (df_referencia.AGE != '65 years or over') & \\\n",
    "                 (df_referencia.SEX == 'Females'),'Physical_activity'].values\n",
    "\n"
   ]
  },
  {
   "cell_type": "markdown",
   "metadata": {},
   "source": [
    "Calculamos las proporciones sobre su total que corresponden a cada uno de los cuatro grupos de edad:"
   ]
  },
  {
   "cell_type": "code",
   "execution_count": 81,
   "metadata": {},
   "outputs": [
    {
     "data": {
      "text/plain": [
       "(array([0.399, 0.235, 0.187, 0.179]), array([0.34 , 0.224, 0.213, 0.223]))"
      ]
     },
     "execution_count": 81,
     "metadata": {},
     "output_type": "execute_result"
    }
   ],
   "source": [
    "proporc_Denmk_Males = np.round(valores_Denmk_Males / np.sum(valores_Denmk_Males),3)\n",
    "proporc_Denmk_Females = np.round(valores_Denmk_Females / np.sum(valores_Denmk_Females),3)\n",
    "\n",
    "proporc_Denmk_Males,proporc_Denmk_Females"
   ]
  },
  {
   "cell_type": "markdown",
   "metadata": {},
   "source": [
    "En los datos de las fuentes citadas para ambos sexos, en el único grupo de edad que engloba los del estudio, el valor es 50. Aplicamos las proporciones calculadas con la referencia sobre este valor:"
   ]
  },
  {
   "cell_type": "code",
   "execution_count": 82,
   "metadata": {},
   "outputs": [
    {
     "data": {
      "text/plain": [
       "(array([19.95, 11.75,  9.35,  8.95]), array([17.  , 11.2 , 10.65, 11.15]))"
      ]
     },
     "execution_count": 82,
     "metadata": {},
     "output_type": "execute_result"
    }
   ],
   "source": [
    "\n",
    "valores_Hol_Males = 50*proporc_Denmk_Males\n",
    "valores_Hol_Females = 50*proporc_Denmk_Females\n",
    "\n",
    "valores_Hol_Males,valores_Hol_Females\n"
   ]
  },
  {
   "cell_type": "markdown",
   "metadata": {},
   "source": [
    "Localizamos los índices de las observaciones a corregir:"
   ]
  },
  {
   "cell_type": "code",
   "execution_count": 83,
   "metadata": {},
   "outputs": [
    {
     "data": {
      "text/plain": [
       "(Int64Index([180, 181, 182, 183], dtype='int64'),\n",
       " Int64Index([185, 186, 187, 188], dtype='int64'))"
      ]
     },
     "execution_count": 83,
     "metadata": {},
     "output_type": "execute_result"
    }
   ],
   "source": [
    "idx_Hol_Males = df_referencia.loc[(df_referencia.GEO == 'Netherlands') & (df_referencia.AGE != '65 years or over') & \\\n",
    "                                  (df_referencia.SEX == 'Males')].index\n",
    "\n",
    "idx_Hol_Females = df_referencia.loc[(df_referencia.GEO == 'Netherlands') & (df_referencia.AGE != '65 years or over') & \\\n",
    "                                  (df_referencia.SEX == 'Females')].index\n",
    "\n",
    "idx_Hol_Males,idx_Hol_Females"
   ]
  },
  {
   "cell_type": "code",
   "execution_count": null,
   "metadata": {},
   "outputs": [],
   "source": []
  },
  {
   "cell_type": "markdown",
   "metadata": {},
   "source": [
    "**Finalmente asignamos los valores:**"
   ]
  },
  {
   "cell_type": "code",
   "execution_count": 84,
   "metadata": {},
   "outputs": [
    {
     "data": {
      "text/html": [
       "<div>\n",
       "<style scoped>\n",
       "    .dataframe tbody tr th:only-of-type {\n",
       "        vertical-align: middle;\n",
       "    }\n",
       "\n",
       "    .dataframe tbody tr th {\n",
       "        vertical-align: top;\n",
       "    }\n",
       "\n",
       "    .dataframe thead th {\n",
       "        text-align: right;\n",
       "    }\n",
       "</style>\n",
       "<table border=\"1\" class=\"dataframe\">\n",
       "  <thead>\n",
       "    <tr style=\"text-align: right;\">\n",
       "      <th></th>\n",
       "      <th>GEO</th>\n",
       "      <th>SEX</th>\n",
       "      <th>AGE</th>\n",
       "      <th>Physical_activity</th>\n",
       "    </tr>\n",
       "  </thead>\n",
       "  <tbody>\n",
       "    <tr>\n",
       "      <th>180</th>\n",
       "      <td>Netherlands</td>\n",
       "      <td>Males</td>\n",
       "      <td>From 15 to 24 years</td>\n",
       "      <td>19.95</td>\n",
       "    </tr>\n",
       "    <tr>\n",
       "      <th>181</th>\n",
       "      <td>Netherlands</td>\n",
       "      <td>Males</td>\n",
       "      <td>From 25 to 34 years</td>\n",
       "      <td>11.75</td>\n",
       "    </tr>\n",
       "    <tr>\n",
       "      <th>182</th>\n",
       "      <td>Netherlands</td>\n",
       "      <td>Males</td>\n",
       "      <td>From 35 to 44 years</td>\n",
       "      <td>9.35</td>\n",
       "    </tr>\n",
       "    <tr>\n",
       "      <th>183</th>\n",
       "      <td>Netherlands</td>\n",
       "      <td>Males</td>\n",
       "      <td>From 45 to 64 years</td>\n",
       "      <td>8.95</td>\n",
       "    </tr>\n",
       "    <tr>\n",
       "      <th>184</th>\n",
       "      <td>Netherlands</td>\n",
       "      <td>Males</td>\n",
       "      <td>65 years or over</td>\n",
       "      <td>NaN</td>\n",
       "    </tr>\n",
       "    <tr>\n",
       "      <th>185</th>\n",
       "      <td>Netherlands</td>\n",
       "      <td>Females</td>\n",
       "      <td>From 15 to 24 years</td>\n",
       "      <td>17.00</td>\n",
       "    </tr>\n",
       "    <tr>\n",
       "      <th>186</th>\n",
       "      <td>Netherlands</td>\n",
       "      <td>Females</td>\n",
       "      <td>From 25 to 34 years</td>\n",
       "      <td>11.20</td>\n",
       "    </tr>\n",
       "    <tr>\n",
       "      <th>187</th>\n",
       "      <td>Netherlands</td>\n",
       "      <td>Females</td>\n",
       "      <td>From 35 to 44 years</td>\n",
       "      <td>10.65</td>\n",
       "    </tr>\n",
       "    <tr>\n",
       "      <th>188</th>\n",
       "      <td>Netherlands</td>\n",
       "      <td>Females</td>\n",
       "      <td>From 45 to 64 years</td>\n",
       "      <td>11.15</td>\n",
       "    </tr>\n",
       "    <tr>\n",
       "      <th>189</th>\n",
       "      <td>Netherlands</td>\n",
       "      <td>Females</td>\n",
       "      <td>65 years or over</td>\n",
       "      <td>NaN</td>\n",
       "    </tr>\n",
       "  </tbody>\n",
       "</table>\n",
       "</div>"
      ],
      "text/plain": [
       "             GEO      SEX                  AGE  Physical_activity\n",
       "180  Netherlands    Males  From 15 to 24 years              19.95\n",
       "181  Netherlands    Males  From 25 to 34 years              11.75\n",
       "182  Netherlands    Males  From 35 to 44 years               9.35\n",
       "183  Netherlands    Males  From 45 to 64 years               8.95\n",
       "184  Netherlands    Males     65 years or over                NaN\n",
       "185  Netherlands  Females  From 15 to 24 years              17.00\n",
       "186  Netherlands  Females  From 25 to 34 years              11.20\n",
       "187  Netherlands  Females  From 35 to 44 years              10.65\n",
       "188  Netherlands  Females  From 45 to 64 years              11.15\n",
       "189  Netherlands  Females     65 years or over                NaN"
      ]
     },
     "execution_count": 84,
     "metadata": {},
     "output_type": "execute_result"
    }
   ],
   "source": [
    "for n,idx in enumerate(list(idx_Hol_Males)):\n",
    "    df_referencia.loc[idx,'Physical_activity'] = valores_Hol_Males[n]\n",
    "    \n",
    "    \n",
    "for n,idx in enumerate(list(idx_Hol_Females)):\n",
    "    df_referencia.loc[idx,'Physical_activity'] = valores_Hol_Females[n]\n",
    "    \n",
    "    \n",
    "df_referencia.loc[df_referencia.GEO=='Netherlands']"
   ]
  },
  {
   "cell_type": "markdown",
   "metadata": {},
   "source": [
    "**Los datos para mayores de 65 años si estan disponibles directamente en las fuentes:**"
   ]
  },
  {
   "cell_type": "code",
   "execution_count": 85,
   "metadata": {},
   "outputs": [
    {
     "data": {
      "text/html": [
       "<div>\n",
       "<style scoped>\n",
       "    .dataframe tbody tr th:only-of-type {\n",
       "        vertical-align: middle;\n",
       "    }\n",
       "\n",
       "    .dataframe tbody tr th {\n",
       "        vertical-align: top;\n",
       "    }\n",
       "\n",
       "    .dataframe thead th {\n",
       "        text-align: right;\n",
       "    }\n",
       "</style>\n",
       "<table border=\"1\" class=\"dataframe\">\n",
       "  <thead>\n",
       "    <tr style=\"text-align: right;\">\n",
       "      <th></th>\n",
       "      <th>GEO</th>\n",
       "      <th>SEX</th>\n",
       "      <th>AGE</th>\n",
       "      <th>Physical_activity</th>\n",
       "    </tr>\n",
       "  </thead>\n",
       "  <tbody>\n",
       "    <tr>\n",
       "      <th>180</th>\n",
       "      <td>Netherlands</td>\n",
       "      <td>Males</td>\n",
       "      <td>From 15 to 24 years</td>\n",
       "      <td>19.95</td>\n",
       "    </tr>\n",
       "    <tr>\n",
       "      <th>181</th>\n",
       "      <td>Netherlands</td>\n",
       "      <td>Males</td>\n",
       "      <td>From 25 to 34 years</td>\n",
       "      <td>11.75</td>\n",
       "    </tr>\n",
       "    <tr>\n",
       "      <th>182</th>\n",
       "      <td>Netherlands</td>\n",
       "      <td>Males</td>\n",
       "      <td>From 35 to 44 years</td>\n",
       "      <td>9.35</td>\n",
       "    </tr>\n",
       "    <tr>\n",
       "      <th>183</th>\n",
       "      <td>Netherlands</td>\n",
       "      <td>Males</td>\n",
       "      <td>From 45 to 64 years</td>\n",
       "      <td>8.95</td>\n",
       "    </tr>\n",
       "    <tr>\n",
       "      <th>184</th>\n",
       "      <td>Netherlands</td>\n",
       "      <td>Males</td>\n",
       "      <td>65 years or over</td>\n",
       "      <td>43.00</td>\n",
       "    </tr>\n",
       "    <tr>\n",
       "      <th>185</th>\n",
       "      <td>Netherlands</td>\n",
       "      <td>Females</td>\n",
       "      <td>From 15 to 24 years</td>\n",
       "      <td>17.00</td>\n",
       "    </tr>\n",
       "    <tr>\n",
       "      <th>186</th>\n",
       "      <td>Netherlands</td>\n",
       "      <td>Females</td>\n",
       "      <td>From 25 to 34 years</td>\n",
       "      <td>11.20</td>\n",
       "    </tr>\n",
       "    <tr>\n",
       "      <th>187</th>\n",
       "      <td>Netherlands</td>\n",
       "      <td>Females</td>\n",
       "      <td>From 35 to 44 years</td>\n",
       "      <td>10.65</td>\n",
       "    </tr>\n",
       "    <tr>\n",
       "      <th>188</th>\n",
       "      <td>Netherlands</td>\n",
       "      <td>Females</td>\n",
       "      <td>From 45 to 64 years</td>\n",
       "      <td>11.15</td>\n",
       "    </tr>\n",
       "    <tr>\n",
       "      <th>189</th>\n",
       "      <td>Netherlands</td>\n",
       "      <td>Females</td>\n",
       "      <td>65 years or over</td>\n",
       "      <td>31.00</td>\n",
       "    </tr>\n",
       "  </tbody>\n",
       "</table>\n",
       "</div>"
      ],
      "text/plain": [
       "             GEO      SEX                  AGE  Physical_activity\n",
       "180  Netherlands    Males  From 15 to 24 years              19.95\n",
       "181  Netherlands    Males  From 25 to 34 years              11.75\n",
       "182  Netherlands    Males  From 35 to 44 years               9.35\n",
       "183  Netherlands    Males  From 45 to 64 years               8.95\n",
       "184  Netherlands    Males     65 years or over              43.00\n",
       "185  Netherlands  Females  From 15 to 24 years              17.00\n",
       "186  Netherlands  Females  From 25 to 34 years              11.20\n",
       "187  Netherlands  Females  From 35 to 44 years              10.65\n",
       "188  Netherlands  Females  From 45 to 64 years              11.15\n",
       "189  Netherlands  Females     65 years or over              31.00"
      ]
     },
     "execution_count": 85,
     "metadata": {},
     "output_type": "execute_result"
    }
   ],
   "source": [
    "df_referencia.loc[184,'Physical_activity'] = 43\n",
    "\n",
    "df_referencia.loc[189,'Physical_activity'] = 31\n",
    "\n",
    "df_referencia.loc[df_referencia.GEO=='Netherlands']"
   ]
  },
  {
   "cell_type": "code",
   "execution_count": null,
   "metadata": {},
   "outputs": [],
   "source": []
  },
  {
   "cell_type": "markdown",
   "metadata": {},
   "source": [
    "**Comprobamos y guardamos resultado final:**"
   ]
  },
  {
   "cell_type": "code",
   "execution_count": 88,
   "metadata": {},
   "outputs": [
    {
     "name": "stdout",
     "output_type": "stream",
     "text": [
      "<class 'pandas.core.frame.DataFrame'>\n",
      "RangeIndex: 310 entries, 0 to 309\n",
      "Data columns (total 4 columns):\n",
      "GEO                  310 non-null object\n",
      "SEX                  310 non-null object\n",
      "AGE                  310 non-null object\n",
      "Physical_activity    310 non-null float64\n",
      "dtypes: float64(1), object(3)\n",
      "memory usage: 9.8+ KB\n"
     ]
    }
   ],
   "source": [
    "df_referencia.info()"
   ]
  },
  {
   "cell_type": "code",
   "execution_count": 89,
   "metadata": {},
   "outputs": [
    {
     "data": {
      "text/html": [
       "<div>\n",
       "<style scoped>\n",
       "    .dataframe tbody tr th:only-of-type {\n",
       "        vertical-align: middle;\n",
       "    }\n",
       "\n",
       "    .dataframe tbody tr th {\n",
       "        vertical-align: top;\n",
       "    }\n",
       "\n",
       "    .dataframe thead th {\n",
       "        text-align: right;\n",
       "    }\n",
       "</style>\n",
       "<table border=\"1\" class=\"dataframe\">\n",
       "  <thead>\n",
       "    <tr style=\"text-align: right;\">\n",
       "      <th></th>\n",
       "      <th>GEO</th>\n",
       "      <th>SEX</th>\n",
       "      <th>AGE</th>\n",
       "      <th>Physical_activity</th>\n",
       "    </tr>\n",
       "  </thead>\n",
       "  <tbody>\n",
       "    <tr>\n",
       "      <th>0</th>\n",
       "      <td>Belgium</td>\n",
       "      <td>Males</td>\n",
       "      <td>From 15 to 24 years</td>\n",
       "      <td>25.2</td>\n",
       "    </tr>\n",
       "    <tr>\n",
       "      <th>1</th>\n",
       "      <td>Belgium</td>\n",
       "      <td>Males</td>\n",
       "      <td>From 25 to 34 years</td>\n",
       "      <td>11.5</td>\n",
       "    </tr>\n",
       "    <tr>\n",
       "      <th>2</th>\n",
       "      <td>Belgium</td>\n",
       "      <td>Males</td>\n",
       "      <td>From 35 to 44 years</td>\n",
       "      <td>7.7</td>\n",
       "    </tr>\n",
       "    <tr>\n",
       "      <th>3</th>\n",
       "      <td>Belgium</td>\n",
       "      <td>Males</td>\n",
       "      <td>From 45 to 64 years</td>\n",
       "      <td>5.5</td>\n",
       "    </tr>\n",
       "    <tr>\n",
       "      <th>4</th>\n",
       "      <td>Belgium</td>\n",
       "      <td>Males</td>\n",
       "      <td>65 years or over</td>\n",
       "      <td>42.0</td>\n",
       "    </tr>\n",
       "  </tbody>\n",
       "</table>\n",
       "</div>"
      ],
      "text/plain": [
       "       GEO    SEX                  AGE  Physical_activity\n",
       "0  Belgium  Males  From 15 to 24 years               25.2\n",
       "1  Belgium  Males  From 25 to 34 years               11.5\n",
       "2  Belgium  Males  From 35 to 44 years                7.7\n",
       "3  Belgium  Males  From 45 to 64 years                5.5\n",
       "4  Belgium  Males     65 years or over               42.0"
      ]
     },
     "execution_count": 89,
     "metadata": {},
     "output_type": "execute_result"
    }
   ],
   "source": [
    "df_referencia.head()"
   ]
  },
  {
   "cell_type": "code",
   "execution_count": 90,
   "metadata": {},
   "outputs": [],
   "source": [
    "df_referencia.to_csv('./data/procesado/base_Phys_activ.csv', index=False)"
   ]
  },
  {
   "cell_type": "code",
   "execution_count": null,
   "metadata": {},
   "outputs": [],
   "source": []
  },
  {
   "cell_type": "raw",
   "metadata": {},
   "source": []
  },
  {
   "cell_type": "markdown",
   "metadata": {},
   "source": [
    "## Variable “Frequency of alcohol consumption”"
   ]
  },
  {
   "cell_type": "markdown",
   "metadata": {},
   "source": [
    "En la tabla de Eurostat faltan los datos de Francia y Holanda. Buscando por internet, de nuevo fuentes de la WHO:\n",
    "\n",
    "https://www.who.int/substance_abuse/publications/en/netherlands.pdf?ua=1\n",
    "\n",
    "https://www.who.int/substance_abuse/publications/global_alcohol_report/profiles/fra.pdf?ua=1\n",
    "\n",
    "\n",
    "Encontramos datos de porcentajes de bebedores habituales (Heavy drinkers) para ambos paises por sexo, sin distinción en grupos de edades. Haremos un procesado similar al anterior.\n",
    "\n",
    "Como en la tabla necesitamos sumar los valores de 2 categorias de la variable independiente, y teniendo la tabla formato EHIS, lo pasamos por la función de automatización. Cargamos el resultado:"
   ]
  },
  {
   "cell_type": "code",
   "execution_count": 92,
   "metadata": {},
   "outputs": [
    {
     "name": "stdout",
     "output_type": "stream",
     "text": [
      "<class 'pandas.core.frame.DataFrame'>\n",
      "RangeIndex: 290 entries, 0 to 289\n",
      "Data columns (total 5 columns):\n",
      "GEO                                     290 non-null object\n",
      "SEX                                     290 non-null object\n",
      "AGE                                     290 non-null object\n",
      "Freq_hv_alcohol_At least once a week    290 non-null float64\n",
      "Freq_hv_alcohol_Every month             290 non-null float64\n",
      "dtypes: float64(2), object(3)\n",
      "memory usage: 11.5+ KB\n"
     ]
    }
   ],
   "source": [
    "df_hvalc = pd.read_csv('./data/procesado/base_Freq_hv_alcohol.csv')\n",
    "df_hvalc.info()"
   ]
  },
  {
   "cell_type": "markdown",
   "metadata": {},
   "source": [
    "Para que haya concordancia en significado con los datos de las fuentes para sustituir los faltantes, debemos quedarnos con la suma de las ultimas dos columnas:"
   ]
  },
  {
   "cell_type": "code",
   "execution_count": 93,
   "metadata": {},
   "outputs": [
    {
     "name": "stdout",
     "output_type": "stream",
     "text": [
      "<class 'pandas.core.frame.DataFrame'>\n",
      "RangeIndex: 290 entries, 0 to 289\n",
      "Data columns (total 6 columns):\n",
      "GEO                                     290 non-null object\n",
      "SEX                                     290 non-null object\n",
      "AGE                                     290 non-null object\n",
      "Freq_hv_alcohol_At least once a week    290 non-null float64\n",
      "Freq_hv_alcohol_Every month             290 non-null float64\n",
      "Heavy_Drink                             290 non-null float64\n",
      "dtypes: float64(3), object(3)\n",
      "memory usage: 13.7+ KB\n"
     ]
    }
   ],
   "source": [
    "df_hvalc['Heavy_Drink'] = df_hvalc['Freq_hv_alcohol_At least once a week'] + df_hvalc['Freq_hv_alcohol_Every month']\n",
    "df_hvalc.info()"
   ]
  },
  {
   "cell_type": "markdown",
   "metadata": {},
   "source": [
    "Eliminamos las columnas que ya sumamos:"
   ]
  },
  {
   "cell_type": "code",
   "execution_count": 94,
   "metadata": {},
   "outputs": [
    {
     "name": "stdout",
     "output_type": "stream",
     "text": [
      "<class 'pandas.core.frame.DataFrame'>\n",
      "RangeIndex: 290 entries, 0 to 289\n",
      "Data columns (total 4 columns):\n",
      "GEO            290 non-null object\n",
      "SEX            290 non-null object\n",
      "AGE            290 non-null object\n",
      "Heavy_Drink    290 non-null float64\n",
      "dtypes: float64(1), object(3)\n",
      "memory usage: 9.2+ KB\n"
     ]
    }
   ],
   "source": [
    "df_hvalc.drop(columns=['Freq_hv_alcohol_At least once a week','Freq_hv_alcohol_Every month'], inplace=True)\n",
    "df_hvalc.info()"
   ]
  },
  {
   "cell_type": "code",
   "execution_count": null,
   "metadata": {},
   "outputs": [],
   "source": []
  },
  {
   "cell_type": "markdown",
   "metadata": {},
   "source": [
    "**Comprobamos que no hay datos para dos países (faltan 20 observaciones para 310, con 10 por país):**"
   ]
  },
  {
   "cell_type": "code",
   "execution_count": 95,
   "metadata": {},
   "outputs": [
    {
     "data": {
      "text/plain": [
       "{'France', 'Netherlands'}"
      ]
     },
     "execution_count": 95,
     "metadata": {},
     "output_type": "execute_result"
    }
   ],
   "source": [
    "PAISES_ESTUDIO - set(df_hvalc.GEO.unique())"
   ]
  },
  {
   "cell_type": "code",
   "execution_count": null,
   "metadata": {},
   "outputs": [],
   "source": []
  },
  {
   "cell_type": "markdown",
   "metadata": {},
   "source": [
    "Preparamos para incluir los registros correspondientes a Francia y Holanda, tomando de nuevo la misma referencia para las dimensiones:"
   ]
  },
  {
   "cell_type": "code",
   "execution_count": 96,
   "metadata": {},
   "outputs": [
    {
     "name": "stdout",
     "output_type": "stream",
     "text": [
      "<class 'pandas.core.frame.DataFrame'>\n",
      "RangeIndex: 310 entries, 0 to 309\n",
      "Data columns (total 3 columns):\n",
      "GEO    310 non-null object\n",
      "SEX    310 non-null object\n",
      "AGE    310 non-null object\n",
      "dtypes: object(3)\n",
      "memory usage: 7.4+ KB\n"
     ]
    }
   ],
   "source": [
    "df_referencia = pd.read_csv('./data/procesado/base_BMI.csv')\n",
    "df_referencia = df_referencia[['GEO', 'SEX', 'AGE']]\n",
    "\n",
    "df_referencia.info()"
   ]
  },
  {
   "cell_type": "markdown",
   "metadata": {},
   "source": [
    "De nuevo, para conservar nuestro formato y orden de las dimensiones, crearemos una variable auxiliar que formará la columna que añadiremos al final:"
   ]
  },
  {
   "cell_type": "code",
   "execution_count": 97,
   "metadata": {},
   "outputs": [
    {
     "name": "stdout",
     "output_type": "stream",
     "text": [
      "<class 'pandas.core.frame.DataFrame'>\n",
      "RangeIndex: 310 entries, 0 to 309\n",
      "Data columns (total 4 columns):\n",
      "GEO                   310 non-null object\n",
      "SEX                   310 non-null object\n",
      "AGE                   310 non-null object\n",
      "Frequent_drink_pct    290 non-null float64\n",
      "dtypes: float64(1), object(3)\n",
      "memory usage: 9.8+ KB\n"
     ]
    }
   ],
   "source": [
    "# inicialización variable lista auxiliar  \n",
    "col_hv_drink = []\n",
    "\n",
    "# rellenamos la variable con los datos existentes y los huecos faltantes\n",
    "for registro in df_referencia.itertuples():\n",
    "    \n",
    "    consulta = df_hvalc.loc[(df_hvalc.GEO==registro.GEO) & (df_hvalc.SEX==registro.SEX) & \\\n",
    "                            (df_hvalc.AGE==registro.AGE),'Heavy_Drink'].values\n",
    "    \n",
    "    if len(consulta) == 0:\n",
    "        \n",
    "        # faltante\n",
    "        valor = np.NaN\n",
    "        \n",
    "    else:\n",
    "        \n",
    "        # existente\n",
    "        valor = consulta[0]\n",
    "        \n",
    "    col_hv_drink.append(valor)\n",
    "    \n",
    "# añadimos nueva columna con valores correctos a las columnas de dimensiones\n",
    "df_referencia['Frequent_drink_pct'] = col_hv_drink\n",
    "\n",
    "df_referencia.info()\n",
    "    \n"
   ]
  },
  {
   "cell_type": "code",
   "execution_count": null,
   "metadata": {},
   "outputs": [],
   "source": []
  },
  {
   "cell_type": "markdown",
   "metadata": {},
   "source": [
    "Localizamos los valores nulos:"
   ]
  },
  {
   "cell_type": "code",
   "execution_count": 98,
   "metadata": {},
   "outputs": [
    {
     "data": {
      "text/html": [
       "<div>\n",
       "<style scoped>\n",
       "    .dataframe tbody tr th:only-of-type {\n",
       "        vertical-align: middle;\n",
       "    }\n",
       "\n",
       "    .dataframe tbody tr th {\n",
       "        vertical-align: top;\n",
       "    }\n",
       "\n",
       "    .dataframe thead th {\n",
       "        text-align: right;\n",
       "    }\n",
       "</style>\n",
       "<table border=\"1\" class=\"dataframe\">\n",
       "  <thead>\n",
       "    <tr style=\"text-align: right;\">\n",
       "      <th></th>\n",
       "      <th>GEO</th>\n",
       "      <th>SEX</th>\n",
       "      <th>AGE</th>\n",
       "      <th>Frequent_drink_pct</th>\n",
       "    </tr>\n",
       "  </thead>\n",
       "  <tbody>\n",
       "    <tr>\n",
       "      <th>90</th>\n",
       "      <td>France</td>\n",
       "      <td>Males</td>\n",
       "      <td>From 15 to 24 years</td>\n",
       "      <td>NaN</td>\n",
       "    </tr>\n",
       "    <tr>\n",
       "      <th>91</th>\n",
       "      <td>France</td>\n",
       "      <td>Males</td>\n",
       "      <td>From 25 to 34 years</td>\n",
       "      <td>NaN</td>\n",
       "    </tr>\n",
       "    <tr>\n",
       "      <th>92</th>\n",
       "      <td>France</td>\n",
       "      <td>Males</td>\n",
       "      <td>From 35 to 44 years</td>\n",
       "      <td>NaN</td>\n",
       "    </tr>\n",
       "    <tr>\n",
       "      <th>93</th>\n",
       "      <td>France</td>\n",
       "      <td>Males</td>\n",
       "      <td>From 45 to 64 years</td>\n",
       "      <td>NaN</td>\n",
       "    </tr>\n",
       "    <tr>\n",
       "      <th>94</th>\n",
       "      <td>France</td>\n",
       "      <td>Males</td>\n",
       "      <td>65 years or over</td>\n",
       "      <td>NaN</td>\n",
       "    </tr>\n",
       "    <tr>\n",
       "      <th>95</th>\n",
       "      <td>France</td>\n",
       "      <td>Females</td>\n",
       "      <td>From 15 to 24 years</td>\n",
       "      <td>NaN</td>\n",
       "    </tr>\n",
       "    <tr>\n",
       "      <th>96</th>\n",
       "      <td>France</td>\n",
       "      <td>Females</td>\n",
       "      <td>From 25 to 34 years</td>\n",
       "      <td>NaN</td>\n",
       "    </tr>\n",
       "    <tr>\n",
       "      <th>97</th>\n",
       "      <td>France</td>\n",
       "      <td>Females</td>\n",
       "      <td>From 35 to 44 years</td>\n",
       "      <td>NaN</td>\n",
       "    </tr>\n",
       "    <tr>\n",
       "      <th>98</th>\n",
       "      <td>France</td>\n",
       "      <td>Females</td>\n",
       "      <td>From 45 to 64 years</td>\n",
       "      <td>NaN</td>\n",
       "    </tr>\n",
       "    <tr>\n",
       "      <th>99</th>\n",
       "      <td>France</td>\n",
       "      <td>Females</td>\n",
       "      <td>65 years or over</td>\n",
       "      <td>NaN</td>\n",
       "    </tr>\n",
       "    <tr>\n",
       "      <th>180</th>\n",
       "      <td>Netherlands</td>\n",
       "      <td>Males</td>\n",
       "      <td>From 15 to 24 years</td>\n",
       "      <td>NaN</td>\n",
       "    </tr>\n",
       "    <tr>\n",
       "      <th>181</th>\n",
       "      <td>Netherlands</td>\n",
       "      <td>Males</td>\n",
       "      <td>From 25 to 34 years</td>\n",
       "      <td>NaN</td>\n",
       "    </tr>\n",
       "    <tr>\n",
       "      <th>182</th>\n",
       "      <td>Netherlands</td>\n",
       "      <td>Males</td>\n",
       "      <td>From 35 to 44 years</td>\n",
       "      <td>NaN</td>\n",
       "    </tr>\n",
       "    <tr>\n",
       "      <th>183</th>\n",
       "      <td>Netherlands</td>\n",
       "      <td>Males</td>\n",
       "      <td>From 45 to 64 years</td>\n",
       "      <td>NaN</td>\n",
       "    </tr>\n",
       "    <tr>\n",
       "      <th>184</th>\n",
       "      <td>Netherlands</td>\n",
       "      <td>Males</td>\n",
       "      <td>65 years or over</td>\n",
       "      <td>NaN</td>\n",
       "    </tr>\n",
       "    <tr>\n",
       "      <th>185</th>\n",
       "      <td>Netherlands</td>\n",
       "      <td>Females</td>\n",
       "      <td>From 15 to 24 years</td>\n",
       "      <td>NaN</td>\n",
       "    </tr>\n",
       "    <tr>\n",
       "      <th>186</th>\n",
       "      <td>Netherlands</td>\n",
       "      <td>Females</td>\n",
       "      <td>From 25 to 34 years</td>\n",
       "      <td>NaN</td>\n",
       "    </tr>\n",
       "    <tr>\n",
       "      <th>187</th>\n",
       "      <td>Netherlands</td>\n",
       "      <td>Females</td>\n",
       "      <td>From 35 to 44 years</td>\n",
       "      <td>NaN</td>\n",
       "    </tr>\n",
       "    <tr>\n",
       "      <th>188</th>\n",
       "      <td>Netherlands</td>\n",
       "      <td>Females</td>\n",
       "      <td>From 45 to 64 years</td>\n",
       "      <td>NaN</td>\n",
       "    </tr>\n",
       "    <tr>\n",
       "      <th>189</th>\n",
       "      <td>Netherlands</td>\n",
       "      <td>Females</td>\n",
       "      <td>65 years or over</td>\n",
       "      <td>NaN</td>\n",
       "    </tr>\n",
       "  </tbody>\n",
       "</table>\n",
       "</div>"
      ],
      "text/plain": [
       "             GEO      SEX                  AGE  Frequent_drink_pct\n",
       "90        France    Males  From 15 to 24 years                 NaN\n",
       "91        France    Males  From 25 to 34 years                 NaN\n",
       "92        France    Males  From 35 to 44 years                 NaN\n",
       "93        France    Males  From 45 to 64 years                 NaN\n",
       "94        France    Males     65 years or over                 NaN\n",
       "95        France  Females  From 15 to 24 years                 NaN\n",
       "96        France  Females  From 25 to 34 years                 NaN\n",
       "97        France  Females  From 35 to 44 years                 NaN\n",
       "98        France  Females  From 45 to 64 years                 NaN\n",
       "99        France  Females     65 years or over                 NaN\n",
       "180  Netherlands    Males  From 15 to 24 years                 NaN\n",
       "181  Netherlands    Males  From 25 to 34 years                 NaN\n",
       "182  Netherlands    Males  From 35 to 44 years                 NaN\n",
       "183  Netherlands    Males  From 45 to 64 years                 NaN\n",
       "184  Netherlands    Males     65 years or over                 NaN\n",
       "185  Netherlands  Females  From 15 to 24 years                 NaN\n",
       "186  Netherlands  Females  From 25 to 34 years                 NaN\n",
       "187  Netherlands  Females  From 35 to 44 years                 NaN\n",
       "188  Netherlands  Females  From 45 to 64 years                 NaN\n",
       "189  Netherlands  Females     65 years or over                 NaN"
      ]
     },
     "execution_count": 98,
     "metadata": {},
     "output_type": "execute_result"
    }
   ],
   "source": [
    "df_referencia[df_referencia.Frequent_drink_pct.isnull()]"
   ]
  },
  {
   "cell_type": "code",
   "execution_count": null,
   "metadata": {},
   "outputs": [],
   "source": []
  },
  {
   "cell_type": "markdown",
   "metadata": {},
   "source": [
    "### Holanda: rellenar datos faltantes con los de las fuentes"
   ]
  },
  {
   "cell_type": "markdown",
   "metadata": {},
   "source": [
    "Los datos diferencian entre genero (Male: 23.3%; Female: 5.6%), pero no entre grupos de edad. Al igual que como lo hicimos en el procesado de la variable anterior, tomamos como referencia los valores de un país con extensión y condiciones socioeconomicas similares, Dinamarca:\n"
   ]
  },
  {
   "cell_type": "code",
   "execution_count": 99,
   "metadata": {},
   "outputs": [
    {
     "data": {
      "text/html": [
       "<div>\n",
       "<style scoped>\n",
       "    .dataframe tbody tr th:only-of-type {\n",
       "        vertical-align: middle;\n",
       "    }\n",
       "\n",
       "    .dataframe tbody tr th {\n",
       "        vertical-align: top;\n",
       "    }\n",
       "\n",
       "    .dataframe thead th {\n",
       "        text-align: right;\n",
       "    }\n",
       "</style>\n",
       "<table border=\"1\" class=\"dataframe\">\n",
       "  <thead>\n",
       "    <tr style=\"text-align: right;\">\n",
       "      <th></th>\n",
       "      <th>GEO</th>\n",
       "      <th>SEX</th>\n",
       "      <th>AGE</th>\n",
       "      <th>Frequent_drink_pct</th>\n",
       "    </tr>\n",
       "  </thead>\n",
       "  <tbody>\n",
       "    <tr>\n",
       "      <th>30</th>\n",
       "      <td>Denmark</td>\n",
       "      <td>Males</td>\n",
       "      <td>From 15 to 24 years</td>\n",
       "      <td>58.7</td>\n",
       "    </tr>\n",
       "    <tr>\n",
       "      <th>31</th>\n",
       "      <td>Denmark</td>\n",
       "      <td>Males</td>\n",
       "      <td>From 25 to 34 years</td>\n",
       "      <td>47.2</td>\n",
       "    </tr>\n",
       "    <tr>\n",
       "      <th>32</th>\n",
       "      <td>Denmark</td>\n",
       "      <td>Males</td>\n",
       "      <td>From 35 to 44 years</td>\n",
       "      <td>44.7</td>\n",
       "    </tr>\n",
       "    <tr>\n",
       "      <th>33</th>\n",
       "      <td>Denmark</td>\n",
       "      <td>Males</td>\n",
       "      <td>From 45 to 64 years</td>\n",
       "      <td>47.2</td>\n",
       "    </tr>\n",
       "    <tr>\n",
       "      <th>34</th>\n",
       "      <td>Denmark</td>\n",
       "      <td>Males</td>\n",
       "      <td>65 years or over</td>\n",
       "      <td>38.3</td>\n",
       "    </tr>\n",
       "  </tbody>\n",
       "</table>\n",
       "</div>"
      ],
      "text/plain": [
       "        GEO    SEX                  AGE  Frequent_drink_pct\n",
       "30  Denmark  Males  From 15 to 24 years                58.7\n",
       "31  Denmark  Males  From 25 to 34 years                47.2\n",
       "32  Denmark  Males  From 35 to 44 years                44.7\n",
       "33  Denmark  Males  From 45 to 64 years                47.2\n",
       "34  Denmark  Males     65 years or over                38.3"
      ]
     },
     "execution_count": 99,
     "metadata": {},
     "output_type": "execute_result"
    }
   ],
   "source": [
    "df_referencia.loc[(df_referencia.GEO == 'Denmark') & (df_referencia.SEX == 'Males')]"
   ]
  },
  {
   "cell_type": "markdown",
   "metadata": {},
   "source": [
    "Recuperamos los valores por sexo:"
   ]
  },
  {
   "cell_type": "code",
   "execution_count": 100,
   "metadata": {},
   "outputs": [
    {
     "data": {
      "text/plain": [
       "(array([58.7, 47.2, 44.7, 47.2, 38.3]), array([55.7, 31.9, 20.2, 25.4, 16.8]))"
      ]
     },
     "execution_count": 100,
     "metadata": {},
     "output_type": "execute_result"
    }
   ],
   "source": [
    "valores_Denmk_Males = df_referencia.loc[(df_referencia.GEO == 'Denmark') & \\\n",
    "                                        (df_referencia.SEX == 'Males'),'Frequent_drink_pct'].values\n",
    "\n",
    "valores_Denmk_Females = df_referencia.loc[(df_referencia.GEO == 'Denmark') & \\\n",
    "                                          (df_referencia.SEX == 'Females'),'Frequent_drink_pct'].values\n",
    "\n",
    "valores_Denmk_Males, valores_Denmk_Females"
   ]
  },
  {
   "cell_type": "code",
   "execution_count": null,
   "metadata": {},
   "outputs": [],
   "source": []
  },
  {
   "cell_type": "markdown",
   "metadata": {},
   "source": [
    "Calculamos las proporciones sobre su total que corresponden a cada uno de los cinco grupos de edad:"
   ]
  },
  {
   "cell_type": "code",
   "execution_count": 101,
   "metadata": {},
   "outputs": [
    {
     "data": {
      "text/plain": [
       "(array([0.249, 0.2  , 0.189, 0.2  , 0.162]),\n",
       " array([0.371, 0.213, 0.135, 0.169, 0.112]))"
      ]
     },
     "execution_count": 101,
     "metadata": {},
     "output_type": "execute_result"
    }
   ],
   "source": [
    "proporc_Denmk_Males = np.round(valores_Denmk_Males / np.sum(valores_Denmk_Males),3)\n",
    "proporc_Denmk_Females = np.round(valores_Denmk_Females / np.sum(valores_Denmk_Females),3)\n",
    "\n",
    "proporc_Denmk_Males,proporc_Denmk_Females"
   ]
  },
  {
   "cell_type": "markdown",
   "metadata": {},
   "source": [
    "En los datos de las fuentes citadas (Holanda) para ambos sexos, sin diferenciar por grupos de edad, los valores son 23.3% y 5.6% para hombres y mujeres respectivamente. Aplicamos las proporciones por grupos de edad a estos valores:"
   ]
  },
  {
   "cell_type": "code",
   "execution_count": 102,
   "metadata": {},
   "outputs": [
    {
     "data": {
      "text/plain": [
       "(array([5.8017, 4.66  , 4.4037, 4.66  , 3.7746]),\n",
       " array([2.0776, 1.1928, 0.756 , 0.9464, 0.6272]))"
      ]
     },
     "execution_count": 102,
     "metadata": {},
     "output_type": "execute_result"
    }
   ],
   "source": [
    "\n",
    "valores_Hol_Males = 23.3*proporc_Denmk_Males\n",
    "valores_Hol_Females = 5.6*proporc_Denmk_Females\n",
    "\n",
    "valores_Hol_Males,valores_Hol_Females\n"
   ]
  },
  {
   "cell_type": "code",
   "execution_count": null,
   "metadata": {},
   "outputs": [],
   "source": []
  },
  {
   "cell_type": "markdown",
   "metadata": {},
   "source": [
    "Localizamos los índices de las observaciones a completar:"
   ]
  },
  {
   "cell_type": "code",
   "execution_count": 103,
   "metadata": {},
   "outputs": [
    {
     "data": {
      "text/plain": [
       "(Int64Index([180, 181, 182, 183, 184], dtype='int64'),\n",
       " Int64Index([185, 186, 187, 188, 189], dtype='int64'))"
      ]
     },
     "execution_count": 103,
     "metadata": {},
     "output_type": "execute_result"
    }
   ],
   "source": [
    "idx_Hol_Males = df_referencia.loc[(df_referencia.GEO == 'Netherlands') & (df_referencia.SEX == 'Males')].index\n",
    "\n",
    "idx_Hol_Females = df_referencia.loc[(df_referencia.GEO == 'Netherlands') & (df_referencia.SEX == 'Females')].index\n",
    "\n",
    "idx_Hol_Males,idx_Hol_Females"
   ]
  },
  {
   "cell_type": "code",
   "execution_count": null,
   "metadata": {},
   "outputs": [],
   "source": []
  },
  {
   "cell_type": "markdown",
   "metadata": {},
   "source": [
    "**Finalmente asignamos los valores y comprobamos:**"
   ]
  },
  {
   "cell_type": "code",
   "execution_count": 106,
   "metadata": {},
   "outputs": [
    {
     "data": {
      "text/html": [
       "<div>\n",
       "<style scoped>\n",
       "    .dataframe tbody tr th:only-of-type {\n",
       "        vertical-align: middle;\n",
       "    }\n",
       "\n",
       "    .dataframe tbody tr th {\n",
       "        vertical-align: top;\n",
       "    }\n",
       "\n",
       "    .dataframe thead th {\n",
       "        text-align: right;\n",
       "    }\n",
       "</style>\n",
       "<table border=\"1\" class=\"dataframe\">\n",
       "  <thead>\n",
       "    <tr style=\"text-align: right;\">\n",
       "      <th></th>\n",
       "      <th>GEO</th>\n",
       "      <th>SEX</th>\n",
       "      <th>AGE</th>\n",
       "      <th>Frequent_drink_pct</th>\n",
       "    </tr>\n",
       "  </thead>\n",
       "  <tbody>\n",
       "    <tr>\n",
       "      <th>180</th>\n",
       "      <td>Netherlands</td>\n",
       "      <td>Males</td>\n",
       "      <td>From 15 to 24 years</td>\n",
       "      <td>5.8017</td>\n",
       "    </tr>\n",
       "    <tr>\n",
       "      <th>181</th>\n",
       "      <td>Netherlands</td>\n",
       "      <td>Males</td>\n",
       "      <td>From 25 to 34 years</td>\n",
       "      <td>4.6600</td>\n",
       "    </tr>\n",
       "    <tr>\n",
       "      <th>182</th>\n",
       "      <td>Netherlands</td>\n",
       "      <td>Males</td>\n",
       "      <td>From 35 to 44 years</td>\n",
       "      <td>4.4037</td>\n",
       "    </tr>\n",
       "    <tr>\n",
       "      <th>183</th>\n",
       "      <td>Netherlands</td>\n",
       "      <td>Males</td>\n",
       "      <td>From 45 to 64 years</td>\n",
       "      <td>4.6600</td>\n",
       "    </tr>\n",
       "    <tr>\n",
       "      <th>184</th>\n",
       "      <td>Netherlands</td>\n",
       "      <td>Males</td>\n",
       "      <td>65 years or over</td>\n",
       "      <td>3.7746</td>\n",
       "    </tr>\n",
       "    <tr>\n",
       "      <th>185</th>\n",
       "      <td>Netherlands</td>\n",
       "      <td>Females</td>\n",
       "      <td>From 15 to 24 years</td>\n",
       "      <td>2.0776</td>\n",
       "    </tr>\n",
       "    <tr>\n",
       "      <th>186</th>\n",
       "      <td>Netherlands</td>\n",
       "      <td>Females</td>\n",
       "      <td>From 25 to 34 years</td>\n",
       "      <td>1.1928</td>\n",
       "    </tr>\n",
       "    <tr>\n",
       "      <th>187</th>\n",
       "      <td>Netherlands</td>\n",
       "      <td>Females</td>\n",
       "      <td>From 35 to 44 years</td>\n",
       "      <td>0.7560</td>\n",
       "    </tr>\n",
       "    <tr>\n",
       "      <th>188</th>\n",
       "      <td>Netherlands</td>\n",
       "      <td>Females</td>\n",
       "      <td>From 45 to 64 years</td>\n",
       "      <td>0.9464</td>\n",
       "    </tr>\n",
       "    <tr>\n",
       "      <th>189</th>\n",
       "      <td>Netherlands</td>\n",
       "      <td>Females</td>\n",
       "      <td>65 years or over</td>\n",
       "      <td>0.6272</td>\n",
       "    </tr>\n",
       "  </tbody>\n",
       "</table>\n",
       "</div>"
      ],
      "text/plain": [
       "             GEO      SEX                  AGE  Frequent_drink_pct\n",
       "180  Netherlands    Males  From 15 to 24 years              5.8017\n",
       "181  Netherlands    Males  From 25 to 34 years              4.6600\n",
       "182  Netherlands    Males  From 35 to 44 years              4.4037\n",
       "183  Netherlands    Males  From 45 to 64 years              4.6600\n",
       "184  Netherlands    Males     65 years or over              3.7746\n",
       "185  Netherlands  Females  From 15 to 24 years              2.0776\n",
       "186  Netherlands  Females  From 25 to 34 years              1.1928\n",
       "187  Netherlands  Females  From 35 to 44 years              0.7560\n",
       "188  Netherlands  Females  From 45 to 64 years              0.9464\n",
       "189  Netherlands  Females     65 years or over              0.6272"
      ]
     },
     "execution_count": 106,
     "metadata": {},
     "output_type": "execute_result"
    }
   ],
   "source": [
    "for n,idx in enumerate(list(idx_Hol_Males)):\n",
    "    df_referencia.loc[idx,'Frequent_drink_pct'] = valores_Hol_Males[n]\n",
    "    \n",
    "    \n",
    "for n,idx in enumerate(list(idx_Hol_Females)):\n",
    "    df_referencia.loc[idx,'Frequent_drink_pct'] = valores_Hol_Females[n]\n",
    "    \n",
    "    \n",
    "df_referencia.loc[df_referencia.GEO=='Netherlands']"
   ]
  },
  {
   "cell_type": "code",
   "execution_count": 109,
   "metadata": {
    "scrolled": true
   },
   "outputs": [
    {
     "name": "stdout",
     "output_type": "stream",
     "text": [
      "<class 'pandas.core.frame.DataFrame'>\n",
      "RangeIndex: 310 entries, 0 to 309\n",
      "Data columns (total 4 columns):\n",
      "GEO                   310 non-null object\n",
      "SEX                   310 non-null object\n",
      "AGE                   310 non-null object\n",
      "Frequent_drink_pct    300 non-null float64\n",
      "dtypes: float64(1), object(3)\n",
      "memory usage: 9.8+ KB\n"
     ]
    }
   ],
   "source": [
    "df_referencia.info()"
   ]
  },
  {
   "cell_type": "code",
   "execution_count": null,
   "metadata": {},
   "outputs": [],
   "source": []
  },
  {
   "cell_type": "markdown",
   "metadata": {},
   "source": [
    "### Francia: rellenar datos faltantes con los de las fuentes"
   ]
  },
  {
   "cell_type": "markdown",
   "metadata": {},
   "source": [
    "Los datos diferencian entre genero (Male: 48.7%; Female: 15.1%), pero no entre grupos de edad. De forma similar **tomaremos ahora como referencia los valores de un país con extensión y condiciones socioeconomicas similares, en este caso Alemania:**\n"
   ]
  },
  {
   "cell_type": "code",
   "execution_count": 110,
   "metadata": {},
   "outputs": [
    {
     "data": {
      "text/html": [
       "<div>\n",
       "<style scoped>\n",
       "    .dataframe tbody tr th:only-of-type {\n",
       "        vertical-align: middle;\n",
       "    }\n",
       "\n",
       "    .dataframe tbody tr th {\n",
       "        vertical-align: top;\n",
       "    }\n",
       "\n",
       "    .dataframe thead th {\n",
       "        text-align: right;\n",
       "    }\n",
       "</style>\n",
       "<table border=\"1\" class=\"dataframe\">\n",
       "  <thead>\n",
       "    <tr style=\"text-align: right;\">\n",
       "      <th></th>\n",
       "      <th>GEO</th>\n",
       "      <th>SEX</th>\n",
       "      <th>AGE</th>\n",
       "      <th>Frequent_drink_pct</th>\n",
       "    </tr>\n",
       "  </thead>\n",
       "  <tbody>\n",
       "    <tr>\n",
       "      <th>40</th>\n",
       "      <td>Germany (until 1990 former territory of the FRG)</td>\n",
       "      <td>Males</td>\n",
       "      <td>From 15 to 24 years</td>\n",
       "      <td>50.5</td>\n",
       "    </tr>\n",
       "    <tr>\n",
       "      <th>41</th>\n",
       "      <td>Germany (until 1990 former territory of the FRG)</td>\n",
       "      <td>Males</td>\n",
       "      <td>From 25 to 34 years</td>\n",
       "      <td>49.0</td>\n",
       "    </tr>\n",
       "    <tr>\n",
       "      <th>42</th>\n",
       "      <td>Germany (until 1990 former territory of the FRG)</td>\n",
       "      <td>Males</td>\n",
       "      <td>From 35 to 44 years</td>\n",
       "      <td>42.1</td>\n",
       "    </tr>\n",
       "    <tr>\n",
       "      <th>43</th>\n",
       "      <td>Germany (until 1990 former territory of the FRG)</td>\n",
       "      <td>Males</td>\n",
       "      <td>From 45 to 64 years</td>\n",
       "      <td>40.5</td>\n",
       "    </tr>\n",
       "    <tr>\n",
       "      <th>44</th>\n",
       "      <td>Germany (until 1990 former territory of the FRG)</td>\n",
       "      <td>Males</td>\n",
       "      <td>65 years or over</td>\n",
       "      <td>34.6</td>\n",
       "    </tr>\n",
       "    <tr>\n",
       "      <th>45</th>\n",
       "      <td>Germany (until 1990 former territory of the FRG)</td>\n",
       "      <td>Females</td>\n",
       "      <td>From 15 to 24 years</td>\n",
       "      <td>38.0</td>\n",
       "    </tr>\n",
       "    <tr>\n",
       "      <th>46</th>\n",
       "      <td>Germany (until 1990 former territory of the FRG)</td>\n",
       "      <td>Females</td>\n",
       "      <td>From 25 to 34 years</td>\n",
       "      <td>24.6</td>\n",
       "    </tr>\n",
       "    <tr>\n",
       "      <th>47</th>\n",
       "      <td>Germany (until 1990 former territory of the FRG)</td>\n",
       "      <td>Females</td>\n",
       "      <td>From 35 to 44 years</td>\n",
       "      <td>20.6</td>\n",
       "    </tr>\n",
       "    <tr>\n",
       "      <th>48</th>\n",
       "      <td>Germany (until 1990 former territory of the FRG)</td>\n",
       "      <td>Females</td>\n",
       "      <td>From 45 to 64 years</td>\n",
       "      <td>23.1</td>\n",
       "    </tr>\n",
       "    <tr>\n",
       "      <th>49</th>\n",
       "      <td>Germany (until 1990 former territory of the FRG)</td>\n",
       "      <td>Females</td>\n",
       "      <td>65 years or over</td>\n",
       "      <td>21.4</td>\n",
       "    </tr>\n",
       "  </tbody>\n",
       "</table>\n",
       "</div>"
      ],
      "text/plain": [
       "                                                 GEO      SEX  \\\n",
       "40  Germany (until 1990 former territory of the FRG)    Males   \n",
       "41  Germany (until 1990 former territory of the FRG)    Males   \n",
       "42  Germany (until 1990 former territory of the FRG)    Males   \n",
       "43  Germany (until 1990 former territory of the FRG)    Males   \n",
       "44  Germany (until 1990 former territory of the FRG)    Males   \n",
       "45  Germany (until 1990 former territory of the FRG)  Females   \n",
       "46  Germany (until 1990 former territory of the FRG)  Females   \n",
       "47  Germany (until 1990 former territory of the FRG)  Females   \n",
       "48  Germany (until 1990 former territory of the FRG)  Females   \n",
       "49  Germany (until 1990 former territory of the FRG)  Females   \n",
       "\n",
       "                    AGE  Frequent_drink_pct  \n",
       "40  From 15 to 24 years                50.5  \n",
       "41  From 25 to 34 years                49.0  \n",
       "42  From 35 to 44 years                42.1  \n",
       "43  From 45 to 64 years                40.5  \n",
       "44     65 years or over                34.6  \n",
       "45  From 15 to 24 years                38.0  \n",
       "46  From 25 to 34 years                24.6  \n",
       "47  From 35 to 44 years                20.6  \n",
       "48  From 45 to 64 years                23.1  \n",
       "49     65 years or over                21.4  "
      ]
     },
     "execution_count": 110,
     "metadata": {},
     "output_type": "execute_result"
    }
   ],
   "source": [
    "df_referencia.loc[(df_referencia.GEO == 'Germany (until 1990 former territory of the FRG)')]"
   ]
  },
  {
   "cell_type": "markdown",
   "metadata": {},
   "source": [
    "Recuperamos los valores por sexo:"
   ]
  },
  {
   "cell_type": "code",
   "execution_count": 111,
   "metadata": {},
   "outputs": [
    {
     "data": {
      "text/plain": [
       "(array([50.5, 49. , 42.1, 40.5, 34.6]), array([38. , 24.6, 20.6, 23.1, 21.4]))"
      ]
     },
     "execution_count": 111,
     "metadata": {},
     "output_type": "execute_result"
    }
   ],
   "source": [
    "valores_Germ_Males = df_referencia.loc[(df_referencia.GEO == 'Germany (until 1990 former territory of the FRG)') & \\\n",
    "                                       (df_referencia.SEX == 'Males'),'Frequent_drink_pct'].values\n",
    "\n",
    "valores_Germ_Females = df_referencia.loc[(df_referencia.GEO == 'Germany (until 1990 former territory of the FRG)') & \\\n",
    "                                         (df_referencia.SEX == 'Females'),'Frequent_drink_pct'].values\n",
    "\n",
    "valores_Germ_Males, valores_Germ_Females"
   ]
  },
  {
   "cell_type": "code",
   "execution_count": null,
   "metadata": {},
   "outputs": [],
   "source": []
  },
  {
   "cell_type": "markdown",
   "metadata": {},
   "source": [
    "Calculamos las proporciones sobre su total que corresponden a cada uno de los cinco grupos de edad:"
   ]
  },
  {
   "cell_type": "code",
   "execution_count": 112,
   "metadata": {},
   "outputs": [
    {
     "data": {
      "text/plain": [
       "(array([0.233, 0.226, 0.194, 0.187, 0.16 ]),\n",
       " array([0.298, 0.193, 0.161, 0.181, 0.168]))"
      ]
     },
     "execution_count": 112,
     "metadata": {},
     "output_type": "execute_result"
    }
   ],
   "source": [
    "proporc_Germ_Males = np.round(valores_Germ_Males / np.sum(valores_Germ_Males),3)\n",
    "proporc_Germ_Females = np.round(valores_Germ_Females / np.sum(valores_Germ_Females),3)\n",
    "\n",
    "proporc_Germ_Males,proporc_Germ_Females"
   ]
  },
  {
   "cell_type": "markdown",
   "metadata": {},
   "source": [
    "En los datos de las fuentes citadas (Francia) para ambos sexos, sin diferenciar por grupos de edad, los valores son 48.7% y 15.1% para hombres y mujeres respectivamente. Aplicamos las proporciones de referencia a estos valores:"
   ]
  },
  {
   "cell_type": "code",
   "execution_count": 113,
   "metadata": {},
   "outputs": [
    {
     "data": {
      "text/plain": [
       "(array([11.3471, 11.0062,  9.4478,  9.1069,  7.792 ]),\n",
       " array([4.4998, 2.9143, 2.4311, 2.7331, 2.5368]))"
      ]
     },
     "execution_count": 113,
     "metadata": {},
     "output_type": "execute_result"
    }
   ],
   "source": [
    "\n",
    "valores_Franc_Males = 48.7*proporc_Germ_Males\n",
    "valores_Franc_Females = 15.1*proporc_Germ_Females\n",
    "\n",
    "valores_Franc_Males,valores_Franc_Females\n"
   ]
  },
  {
   "cell_type": "code",
   "execution_count": null,
   "metadata": {},
   "outputs": [],
   "source": []
  },
  {
   "cell_type": "markdown",
   "metadata": {},
   "source": [
    "Localizamos los índices de las observaciones a completar:"
   ]
  },
  {
   "cell_type": "code",
   "execution_count": 114,
   "metadata": {},
   "outputs": [
    {
     "data": {
      "text/plain": [
       "(Int64Index([90, 91, 92, 93, 94], dtype='int64'),\n",
       " Int64Index([95, 96, 97, 98, 99], dtype='int64'))"
      ]
     },
     "execution_count": 114,
     "metadata": {},
     "output_type": "execute_result"
    }
   ],
   "source": [
    "idx_Franc_Males = df_referencia.loc[(df_referencia.GEO == 'France') & (df_referencia.SEX == 'Males')].index\n",
    "\n",
    "idx_Franc_Females = df_referencia.loc[(df_referencia.GEO == 'France') & (df_referencia.SEX == 'Females')].index\n",
    "\n",
    "idx_Franc_Males,idx_Franc_Females"
   ]
  },
  {
   "cell_type": "code",
   "execution_count": null,
   "metadata": {},
   "outputs": [],
   "source": []
  },
  {
   "cell_type": "markdown",
   "metadata": {},
   "source": [
    "**Finalmente asignamos los valores y comprobamos:**"
   ]
  },
  {
   "cell_type": "code",
   "execution_count": 115,
   "metadata": {},
   "outputs": [
    {
     "data": {
      "text/html": [
       "<div>\n",
       "<style scoped>\n",
       "    .dataframe tbody tr th:only-of-type {\n",
       "        vertical-align: middle;\n",
       "    }\n",
       "\n",
       "    .dataframe tbody tr th {\n",
       "        vertical-align: top;\n",
       "    }\n",
       "\n",
       "    .dataframe thead th {\n",
       "        text-align: right;\n",
       "    }\n",
       "</style>\n",
       "<table border=\"1\" class=\"dataframe\">\n",
       "  <thead>\n",
       "    <tr style=\"text-align: right;\">\n",
       "      <th></th>\n",
       "      <th>GEO</th>\n",
       "      <th>SEX</th>\n",
       "      <th>AGE</th>\n",
       "      <th>Frequent_drink_pct</th>\n",
       "    </tr>\n",
       "  </thead>\n",
       "  <tbody>\n",
       "    <tr>\n",
       "      <th>90</th>\n",
       "      <td>France</td>\n",
       "      <td>Males</td>\n",
       "      <td>From 15 to 24 years</td>\n",
       "      <td>11.3471</td>\n",
       "    </tr>\n",
       "    <tr>\n",
       "      <th>91</th>\n",
       "      <td>France</td>\n",
       "      <td>Males</td>\n",
       "      <td>From 25 to 34 years</td>\n",
       "      <td>11.0062</td>\n",
       "    </tr>\n",
       "    <tr>\n",
       "      <th>92</th>\n",
       "      <td>France</td>\n",
       "      <td>Males</td>\n",
       "      <td>From 35 to 44 years</td>\n",
       "      <td>9.4478</td>\n",
       "    </tr>\n",
       "    <tr>\n",
       "      <th>93</th>\n",
       "      <td>France</td>\n",
       "      <td>Males</td>\n",
       "      <td>From 45 to 64 years</td>\n",
       "      <td>9.1069</td>\n",
       "    </tr>\n",
       "    <tr>\n",
       "      <th>94</th>\n",
       "      <td>France</td>\n",
       "      <td>Males</td>\n",
       "      <td>65 years or over</td>\n",
       "      <td>7.7920</td>\n",
       "    </tr>\n",
       "    <tr>\n",
       "      <th>95</th>\n",
       "      <td>France</td>\n",
       "      <td>Females</td>\n",
       "      <td>From 15 to 24 years</td>\n",
       "      <td>4.4998</td>\n",
       "    </tr>\n",
       "    <tr>\n",
       "      <th>96</th>\n",
       "      <td>France</td>\n",
       "      <td>Females</td>\n",
       "      <td>From 25 to 34 years</td>\n",
       "      <td>2.9143</td>\n",
       "    </tr>\n",
       "    <tr>\n",
       "      <th>97</th>\n",
       "      <td>France</td>\n",
       "      <td>Females</td>\n",
       "      <td>From 35 to 44 years</td>\n",
       "      <td>2.4311</td>\n",
       "    </tr>\n",
       "    <tr>\n",
       "      <th>98</th>\n",
       "      <td>France</td>\n",
       "      <td>Females</td>\n",
       "      <td>From 45 to 64 years</td>\n",
       "      <td>2.7331</td>\n",
       "    </tr>\n",
       "    <tr>\n",
       "      <th>99</th>\n",
       "      <td>France</td>\n",
       "      <td>Females</td>\n",
       "      <td>65 years or over</td>\n",
       "      <td>2.5368</td>\n",
       "    </tr>\n",
       "  </tbody>\n",
       "</table>\n",
       "</div>"
      ],
      "text/plain": [
       "       GEO      SEX                  AGE  Frequent_drink_pct\n",
       "90  France    Males  From 15 to 24 years             11.3471\n",
       "91  France    Males  From 25 to 34 years             11.0062\n",
       "92  France    Males  From 35 to 44 years              9.4478\n",
       "93  France    Males  From 45 to 64 years              9.1069\n",
       "94  France    Males     65 years or over              7.7920\n",
       "95  France  Females  From 15 to 24 years              4.4998\n",
       "96  France  Females  From 25 to 34 years              2.9143\n",
       "97  France  Females  From 35 to 44 years              2.4311\n",
       "98  France  Females  From 45 to 64 years              2.7331\n",
       "99  France  Females     65 years or over              2.5368"
      ]
     },
     "execution_count": 115,
     "metadata": {},
     "output_type": "execute_result"
    }
   ],
   "source": [
    "for n,idx in enumerate(list(idx_Franc_Males)):\n",
    "    df_referencia.loc[idx,'Frequent_drink_pct'] = valores_Franc_Males[n]\n",
    "    \n",
    "    \n",
    "for n,idx in enumerate(list(idx_Franc_Females)):\n",
    "    df_referencia.loc[idx,'Frequent_drink_pct'] = valores_Franc_Females[n]\n",
    "    \n",
    "    \n",
    "df_referencia.loc[df_referencia.GEO=='France']"
   ]
  },
  {
   "cell_type": "code",
   "execution_count": 116,
   "metadata": {
    "scrolled": true
   },
   "outputs": [
    {
     "name": "stdout",
     "output_type": "stream",
     "text": [
      "<class 'pandas.core.frame.DataFrame'>\n",
      "RangeIndex: 310 entries, 0 to 309\n",
      "Data columns (total 4 columns):\n",
      "GEO                   310 non-null object\n",
      "SEX                   310 non-null object\n",
      "AGE                   310 non-null object\n",
      "Frequent_drink_pct    310 non-null float64\n",
      "dtypes: float64(1), object(3)\n",
      "memory usage: 9.8+ KB\n"
     ]
    }
   ],
   "source": [
    "df_referencia.info()"
   ]
  },
  {
   "cell_type": "code",
   "execution_count": null,
   "metadata": {},
   "outputs": [],
   "source": []
  },
  {
   "cell_type": "markdown",
   "metadata": {},
   "source": [
    "**Con la situación de la falta de datos para los dos países resuelta, guardamos el resultado:**"
   ]
  },
  {
   "cell_type": "code",
   "execution_count": 117,
   "metadata": {},
   "outputs": [],
   "source": [
    "df_referencia.to_csv('./data/procesado/base_Freq_hv_alcohol_COMPLETO.csv', index=False)"
   ]
  },
  {
   "cell_type": "code",
   "execution_count": null,
   "metadata": {},
   "outputs": [],
   "source": []
  },
  {
   "cell_type": "code",
   "execution_count": null,
   "metadata": {},
   "outputs": [],
   "source": []
  },
  {
   "cell_type": "code",
   "execution_count": null,
   "metadata": {},
   "outputs": [],
   "source": []
  }
 ],
 "metadata": {
  "kernelspec": {
   "display_name": "Python 3",
   "language": "python",
   "name": "python3"
  },
  "language_info": {
   "codemirror_mode": {
    "name": "ipython",
    "version": 3
   },
   "file_extension": ".py",
   "mimetype": "text/x-python",
   "name": "python",
   "nbconvert_exporter": "python",
   "pygments_lexer": "ipython3",
   "version": "3.7.3"
  }
 },
 "nbformat": 4,
 "nbformat_minor": 2
}
