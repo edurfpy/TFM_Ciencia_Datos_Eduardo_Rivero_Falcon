{
 "cells": [
  {
   "cell_type": "markdown",
   "metadata": {},
   "source": [
    "## CARGA Y PROCESADO DE OTRAS TABLAS (casos particulares, distinto procesado del automatizado para la mayoría de las variables)"
   ]
  },
  {
   "cell_type": "markdown",
   "metadata": {},
   "source": [
    "### Librerías necesarias"
   ]
  },
  {
   "cell_type": "code",
   "execution_count": 1,
   "metadata": {},
   "outputs": [],
   "source": [
    "import numpy as np\n",
    "import pandas as pd\n",
    "import os"
   ]
  },
  {
   "cell_type": "code",
   "execution_count": null,
   "metadata": {},
   "outputs": [],
   "source": []
  },
  {
   "cell_type": "markdown",
   "metadata": {},
   "source": [
    "#### Constante para comprobación"
   ]
  },
  {
   "cell_type": "code",
   "execution_count": 41,
   "metadata": {},
   "outputs": [],
   "source": [
    "PAISES_ESTUDIO = {'Austria','Belgium','Bulgaria','Croatia','Cyprus','Czechia','Denmark','Estonia','Finland','France', \\\n",
    "                  'Germany (until 1990 former territory of the FRG)','Greece','Hungary','Iceland','Ireland','Italy', \\\n",
    "                  'Latvia','Lithuania','Luxembourg','Malta','Netherlands','Norway','Poland','Portugal','Romania', \\\n",
    "                  'Slovakia','Slovenia','Spain','Sweden','Turkey','United Kingdom'}\n"
   ]
  },
  {
   "cell_type": "code",
   "execution_count": null,
   "metadata": {},
   "outputs": [],
   "source": []
  },
  {
   "cell_type": "markdown",
   "metadata": {},
   "source": [
    "### Procesado tablas con formato EHIS o similar válido, pero con 1 sola categoría de la variable independiente."
   ]
  },
  {
   "cell_type": "markdown",
   "metadata": {},
   "source": [
    "En estos casos no es necesario hacer la operacion de pivotar en base a la columna de la variable independiente. Solo una categoria con los valores en una columna que basta con renombrar para darle significado. Nos ahorramos por lo tanto bastante de los pasos del \"procesado formato EHIS\" usual (con varias categorías) "
   ]
  },
  {
   "cell_type": "code",
   "execution_count": 7,
   "metadata": {},
   "outputs": [],
   "source": [
    "def carga_formato_unico_valor(dict_archivos):\n",
    "    \n",
    "    PAISES_ESTUDIO = {'Austria','Belgium','Bulgaria','Croatia','Cyprus','Czechia','Denmark','Estonia','Finland','France', \\\n",
    "                     'Germany (until 1990 former territory of the FRG)','Greece','Hungary','Iceland','Ireland','Italy', \\\n",
    "                     'Latvia','Lithuania','Luxembourg','Malta','Netherlands','Norway','Poland','Portugal','Romania', \\\n",
    "                     'Slovakia','Slovenia','Spain','Sweden','Turkey','United Kingdom'}\n",
    "\n",
    "    \n",
    "    # inicialización variables necesarias\n",
    "    lista_fallos = []\n",
    "    n_var_indep = 0\n",
    "    total_var_indep = len(dict_archivos)\n",
    "        \n",
    "        \n",
    "    # carga del archivo original (Eurostat), procesado, comprobación y guardado en su caso\n",
    "    # del archivo correspondiente a cada variable\n",
    "    \n",
    "    for var_indep,archivo in dict_archivos.items():\n",
    "        \n",
    "        # inicialización y carga del archivo\n",
    "        n_var_indep +=1\n",
    "        ruta = archivo[0]\n",
    "        print('#'*90)\n",
    "        print('CARGANDO ARCHIVO {} EN DF ({} de {}) ...'.format(ruta,n_var_indep,total_var_indep))\n",
    "        print('#'*90,'\\n'*2)\n",
    "        \n",
    "        df_varind = pd.read_csv(ruta, na_values = [': u',':'])\n",
    "        \n",
    "        print(df_varind.info(),'\\n'*2)\n",
    "        print(df_varind.head(),'\\n'*2)\n",
    "        \n",
    "        \n",
    "        # Eliminamos columnas no necesarias y reordenamos formato deseado\n",
    "        print('Eliminamos columnas innecesarias ...')\n",
    "        df_varind.drop(columns= ['UNIT', 'TIME','ISCED11','Flag and Footnotes'], inplace=True)\n",
    "        print('Columnas que quedan: ', df_varind.columns.values,'\\n')\n",
    "        \n",
    "        print('Reordenamos columnas, renombramos columna \"Value\" ...')\n",
    "        df_varind = df_varind[['GEO','SEX','AGE','Value']]\n",
    "        df_varind.columns = ['GEO','SEX','AGE',archivo[1]]\n",
    "        print('Columnas quedan: ', df_varind.columns.values,'\\n')\n",
    "        \n",
    "        \n",
    "        # Comprobación dimensiones\n",
    "        print('Comprobando longitud dimensiones ...','\\n'*2)\n",
    "        unicos_GEO,unicos_SEX,unicos_AGE = len(df_varind.GEO.unique()),len(df_varind.SEX.unique()),len(df_varind.AGE.unique())\n",
    "        print('GEO nº valores unicos: {}'.format(unicos_GEO),'\\n')\n",
    "        print('DIFERENCIA: ', PAISES_ESTUDIO-set(df_varind.GEO.unique()),'\\n')\n",
    "        print('SEX nº valores unicos: {}'.format(unicos_SEX),'\\n',df_varind.SEX.unique(),'\\n')\n",
    "        print('AGE nº valores unicos: {}'.format(unicos_AGE),'\\n',df_varind.AGE.unique(),'\\n'*2)\n",
    "        \n",
    "        print('Finalmente DF queda:',df_varind.info(),'\\n'*2)\n",
    "        \n",
    "                         \n",
    "        # opción de guardar o no según comprobación\n",
    "        \n",
    "        if str.upper(input('Pausa comprobación, pulsa \"S\" si correcto:\\t')) == 'S':\n",
    "            \n",
    "            # guardado archivo\n",
    "            \n",
    "            print('{} procesado con exito ...'.format(var_indep))\n",
    "            nombre_guardar = 'base_' + var_indep + '.csv'\n",
    "            guardar_ruta = os.path.join('.\\data\\procesado', nombre_guardar)\n",
    "            df_varind.to_csv(guardar_ruta, index=False)\n",
    "            print('{} guardado como {}.'.format(var_indep,guardar_ruta),'\\n'*2)\n",
    "            \n",
    "        else:\n",
    "            \n",
    "            # salida con los errores\n",
    "            \n",
    "            lista_fallos.append(var_indep)\n",
    "            print('{} no es correcto.'.format(var_indep))\n",
    "            \n",
    "    # salida final        \n",
    "    print('Procesado no dio resultado en {} de {}'.format(len(lista_fallos),total_var_indep))\n",
    "    print(lista_fallos)\n",
    "        "
   ]
  },
  {
   "cell_type": "code",
   "execution_count": null,
   "metadata": {},
   "outputs": [],
   "source": []
  },
  {
   "cell_type": "markdown",
   "metadata": {},
   "source": [
    "### Llamada a la función"
   ]
  },
  {
   "cell_type": "code",
   "execution_count": 5,
   "metadata": {},
   "outputs": [],
   "source": [
    "variables = {'Chronic_illness': ('./data/origen/SILC/hlth_silc_05_1_Data.csv',\"Chron_ill_pct\"), \\\n",
    "            'Prescribed_med_use': ('./data/origen/hlth_ehis_md1e_1_Data.csv',\"presc_med_use_pct\"), \\\n",
    "            'Non_prescrib_med_use': ('./data/origen/hlth_ehis_md2e_1_Data.csv',\"non_presc_med_use_pct\")}\n",
    "\n"
   ]
  },
  {
   "cell_type": "code",
   "execution_count": null,
   "metadata": {},
   "outputs": [],
   "source": []
  },
  {
   "cell_type": "code",
   "execution_count": 8,
   "metadata": {},
   "outputs": [
    {
     "name": "stdout",
     "output_type": "stream",
     "text": [
      "##########################################################################################\n",
      "CARGANDO ARCHIVO ./data/origen/SILC/hlth_silc_05_1_Data.csv EN DF (1 de 3) ...\n",
      "########################################################################################## \n",
      "\n",
      "\n",
      "<class 'pandas.core.frame.DataFrame'>\n",
      "RangeIndex: 310 entries, 0 to 309\n",
      "Data columns (total 8 columns):\n",
      "TIME                  310 non-null int64\n",
      "GEO                   310 non-null object\n",
      "ISCED11               310 non-null object\n",
      "AGE                   310 non-null object\n",
      "SEX                   310 non-null object\n",
      "UNIT                  310 non-null object\n",
      "Value                 310 non-null float64\n",
      "Flag and Footnotes    11 non-null object\n",
      "dtypes: float64(1), int64(1), object(6)\n",
      "memory usage: 19.5+ KB\n",
      "None \n",
      "\n",
      "\n",
      "   TIME      GEO                 ISCED11                  AGE      SEX  \\\n",
      "0  2014  Belgium  All ISCED 2011 levels   From 16 to 24 years    Males   \n",
      "1  2014  Belgium  All ISCED 2011 levels   From 16 to 24 years  Females   \n",
      "2  2014  Belgium  All ISCED 2011 levels   From 25 to 34 years    Males   \n",
      "3  2014  Belgium  All ISCED 2011 levels   From 25 to 34 years  Females   \n",
      "4  2014  Belgium  All ISCED 2011 levels   From 35 to 44 years    Males   \n",
      "\n",
      "         UNIT  Value Flag and Footnotes  \n",
      "0  Percentage    9.2                NaN  \n",
      "1  Percentage   12.5                NaN  \n",
      "2  Percentage   12.4                NaN  \n",
      "3  Percentage   12.6                NaN  \n",
      "4  Percentage   18.4                NaN   \n",
      "\n",
      "\n",
      "Eliminamos columnas innecesarias ...\n",
      "Columnas que quedan:  ['GEO' 'AGE' 'SEX' 'Value'] \n",
      "\n",
      "Reordenamos columnas, renombramos columna \"Value\" ...\n",
      "Columnas quedan:  ['GEO' 'SEX' 'AGE' 'Chron_ill_pct'] \n",
      "\n",
      "Comprobando longitud dimensiones ... \n",
      "\n",
      "\n",
      "GEO nº valores unicos: 31 \n",
      "\n",
      "DIFERENCIA:  set() \n",
      "\n",
      "SEX nº valores unicos: 2 \n",
      " ['Males' 'Females'] \n",
      "\n",
      "AGE nº valores unicos: 5 \n",
      " ['From 16 to 24 years' 'From 25 to 34 years' 'From 35 to 44 years'\n",
      " 'From 45 to 64 years' '65 years or over'] \n",
      "\n",
      "\n",
      "<class 'pandas.core.frame.DataFrame'>\n",
      "RangeIndex: 310 entries, 0 to 309\n",
      "Data columns (total 4 columns):\n",
      "GEO              310 non-null object\n",
      "SEX              310 non-null object\n",
      "AGE              310 non-null object\n",
      "Chron_ill_pct    310 non-null float64\n",
      "dtypes: float64(1), object(3)\n",
      "memory usage: 9.8+ KB\n",
      "Finalmente DF queda: None \n",
      "\n",
      "\n",
      "Pausa comprobación, pulsa \"S\" si correcto:\ts\n",
      "Chronic_illness procesado con exito ...\n",
      "Chronic_illness guardado como .\\data\\procesado\\base_Chronic_illness.csv. \n",
      "\n",
      "\n",
      "##########################################################################################\n",
      "CARGANDO ARCHIVO ./data/origen/hlth_ehis_md1e_1_Data.csv EN DF (2 de 3) ...\n",
      "########################################################################################## \n",
      "\n",
      "\n",
      "<class 'pandas.core.frame.DataFrame'>\n",
      "RangeIndex: 310 entries, 0 to 309\n",
      "Data columns (total 8 columns):\n",
      "TIME                  310 non-null int64\n",
      "GEO                   310 non-null object\n",
      "UNIT                  310 non-null object\n",
      "ISCED11               310 non-null object\n",
      "SEX                   310 non-null object\n",
      "AGE                   310 non-null object\n",
      "Value                 310 non-null float64\n",
      "Flag and Footnotes    0 non-null float64\n",
      "dtypes: float64(2), int64(1), object(5)\n",
      "memory usage: 19.5+ KB\n",
      "None \n",
      "\n",
      "\n",
      "   TIME      GEO        UNIT                 ISCED11    SEX  \\\n",
      "0  2014  Belgium  Percentage  All ISCED 2011 levels   Males   \n",
      "1  2014  Belgium  Percentage  All ISCED 2011 levels   Males   \n",
      "2  2014  Belgium  Percentage  All ISCED 2011 levels   Males   \n",
      "3  2014  Belgium  Percentage  All ISCED 2011 levels   Males   \n",
      "4  2014  Belgium  Percentage  All ISCED 2011 levels   Males   \n",
      "\n",
      "                   AGE  Value  Flag and Footnotes  \n",
      "0  From 15 to 24 years   22.3                 NaN  \n",
      "1  From 25 to 34 years   27.1                 NaN  \n",
      "2  From 35 to 44 years   37.6                 NaN  \n",
      "3  From 45 to 64 years   64.0                 NaN  \n",
      "4     65 years or over   88.1                 NaN   \n",
      "\n",
      "\n",
      "Eliminamos columnas innecesarias ...\n",
      "Columnas que quedan:  ['GEO' 'SEX' 'AGE' 'Value'] \n",
      "\n",
      "Reordenamos columnas, renombramos columna \"Value\" ...\n",
      "Columnas quedan:  ['GEO' 'SEX' 'AGE' 'presc_med_use_pct'] \n",
      "\n",
      "Comprobando longitud dimensiones ... \n",
      "\n",
      "\n",
      "GEO nº valores unicos: 31 \n",
      "\n",
      "DIFERENCIA:  set() \n",
      "\n",
      "SEX nº valores unicos: 2 \n",
      " ['Males' 'Females'] \n",
      "\n",
      "AGE nº valores unicos: 5 \n",
      " ['From 15 to 24 years' 'From 25 to 34 years' 'From 35 to 44 years'\n",
      " 'From 45 to 64 years' '65 years or over'] \n",
      "\n",
      "\n",
      "<class 'pandas.core.frame.DataFrame'>\n",
      "RangeIndex: 310 entries, 0 to 309\n",
      "Data columns (total 4 columns):\n",
      "GEO                  310 non-null object\n",
      "SEX                  310 non-null object\n",
      "AGE                  310 non-null object\n",
      "presc_med_use_pct    310 non-null float64\n",
      "dtypes: float64(1), object(3)\n",
      "memory usage: 9.8+ KB\n",
      "Finalmente DF queda: None \n",
      "\n",
      "\n",
      "Pausa comprobación, pulsa \"S\" si correcto:\ts\n",
      "Prescribed_med_use procesado con exito ...\n",
      "Prescribed_med_use guardado como .\\data\\procesado\\base_Prescribed_med_use.csv. \n",
      "\n",
      "\n",
      "##########################################################################################\n",
      "CARGANDO ARCHIVO ./data/origen/hlth_ehis_md2e_1_Data.csv EN DF (3 de 3) ...\n",
      "########################################################################################## \n",
      "\n",
      "\n",
      "<class 'pandas.core.frame.DataFrame'>\n",
      "RangeIndex: 310 entries, 0 to 309\n",
      "Data columns (total 8 columns):\n",
      "TIME                  310 non-null int64\n",
      "GEO                   310 non-null object\n",
      "UNIT                  310 non-null object\n",
      "ISCED11               310 non-null object\n",
      "SEX                   310 non-null object\n",
      "AGE                   310 non-null object\n",
      "Value                 310 non-null float64\n",
      "Flag and Footnotes    0 non-null float64\n",
      "dtypes: float64(2), int64(1), object(5)\n",
      "memory usage: 19.5+ KB\n",
      "None \n",
      "\n",
      "\n",
      "   TIME      GEO        UNIT                 ISCED11    SEX  \\\n",
      "0  2014  Belgium  Percentage  All ISCED 2011 levels   Males   \n",
      "1  2014  Belgium  Percentage  All ISCED 2011 levels   Males   \n",
      "2  2014  Belgium  Percentage  All ISCED 2011 levels   Males   \n",
      "3  2014  Belgium  Percentage  All ISCED 2011 levels   Males   \n",
      "4  2014  Belgium  Percentage  All ISCED 2011 levels   Males   \n",
      "\n",
      "                   AGE  Value  Flag and Footnotes  \n",
      "0  From 15 to 24 years   13.4                 NaN  \n",
      "1  From 25 to 34 years   17.2                 NaN  \n",
      "2  From 35 to 44 years   18.1                 NaN  \n",
      "3  From 45 to 64 years   17.0                 NaN  \n",
      "4     65 years or over   16.2                 NaN   \n",
      "\n",
      "\n",
      "Eliminamos columnas innecesarias ...\n",
      "Columnas que quedan:  ['GEO' 'SEX' 'AGE' 'Value'] \n",
      "\n",
      "Reordenamos columnas, renombramos columna \"Value\" ...\n",
      "Columnas quedan:  ['GEO' 'SEX' 'AGE' 'non_presc_med_use_pct'] \n",
      "\n",
      "Comprobando longitud dimensiones ... \n",
      "\n",
      "\n",
      "GEO nº valores unicos: 31 \n",
      "\n",
      "DIFERENCIA:  set() \n",
      "\n",
      "SEX nº valores unicos: 2 \n",
      " ['Males' 'Females'] \n",
      "\n",
      "AGE nº valores unicos: 5 \n",
      " ['From 15 to 24 years' 'From 25 to 34 years' 'From 35 to 44 years'\n",
      " 'From 45 to 64 years' '65 years or over'] \n",
      "\n",
      "\n",
      "<class 'pandas.core.frame.DataFrame'>\n",
      "RangeIndex: 310 entries, 0 to 309\n",
      "Data columns (total 4 columns):\n",
      "GEO                      310 non-null object\n",
      "SEX                      310 non-null object\n",
      "AGE                      310 non-null object\n",
      "non_presc_med_use_pct    310 non-null float64\n",
      "dtypes: float64(1), object(3)\n",
      "memory usage: 9.8+ KB\n",
      "Finalmente DF queda: None \n",
      "\n",
      "\n",
      "Pausa comprobación, pulsa \"S\" si correcto:\ts\n",
      "Non_prescrib_med_use procesado con exito ...\n",
      "Non_prescrib_med_use guardado como .\\data\\procesado\\base_Non_prescrib_med_use.csv. \n",
      "\n",
      "\n",
      "Procesado no dio resultado en 0 de 3\n",
      "[]\n"
     ]
    }
   ],
   "source": [
    "carga_formato_unico_valor(variables)"
   ]
  },
  {
   "cell_type": "code",
   "execution_count": null,
   "metadata": {},
   "outputs": [],
   "source": []
  },
  {
   "cell_type": "markdown",
   "metadata": {},
   "source": [
    "La tabla de la **variable 'Chronic illnes' pertenece a otra  iniciativa de Eurostat (encuesta SILC). La estructura concuerda pero toma como primer grupo de edad de 16 a 24, en vez de 15 a 24 de las restantes**. Dada la poca diferencia y el muy probable poco impacto sobre el total de la población **se decide aceptar esta division y corregir el nombre del grupo de edad a efectos de compatibilidad en el formato del resto, señalando esta circunstancia en nuestro estudio.**"
   ]
  },
  {
   "cell_type": "code",
   "execution_count": null,
   "metadata": {},
   "outputs": [],
   "source": []
  },
  {
   "cell_type": "code",
   "execution_count": 85,
   "metadata": {},
   "outputs": [
    {
     "name": "stdout",
     "output_type": "stream",
     "text": [
      "<class 'pandas.core.frame.DataFrame'>\n",
      "RangeIndex: 310 entries, 0 to 309\n",
      "Data columns (total 4 columns):\n",
      "GEO              310 non-null object\n",
      "SEX              310 non-null object\n",
      "AGE              310 non-null object\n",
      "Chron_ill_pct    310 non-null float64\n",
      "dtypes: float64(1), object(3)\n",
      "memory usage: 9.8+ KB\n"
     ]
    }
   ],
   "source": [
    "df_corregir_Chronic = pd.read_csv('./data/procesado/base_Chronic_illness.csv')\n",
    "df_corregir_Chronic.info()"
   ]
  },
  {
   "cell_type": "code",
   "execution_count": 86,
   "metadata": {},
   "outputs": [
    {
     "data": {
      "text/html": [
       "<div>\n",
       "<style scoped>\n",
       "    .dataframe tbody tr th:only-of-type {\n",
       "        vertical-align: middle;\n",
       "    }\n",
       "\n",
       "    .dataframe tbody tr th {\n",
       "        vertical-align: top;\n",
       "    }\n",
       "\n",
       "    .dataframe thead th {\n",
       "        text-align: right;\n",
       "    }\n",
       "</style>\n",
       "<table border=\"1\" class=\"dataframe\">\n",
       "  <thead>\n",
       "    <tr style=\"text-align: right;\">\n",
       "      <th></th>\n",
       "      <th>GEO</th>\n",
       "      <th>SEX</th>\n",
       "      <th>AGE</th>\n",
       "      <th>Chron_ill_pct</th>\n",
       "    </tr>\n",
       "  </thead>\n",
       "  <tbody>\n",
       "    <tr>\n",
       "      <th>0</th>\n",
       "      <td>Belgium</td>\n",
       "      <td>Males</td>\n",
       "      <td>From 16 to 24 years</td>\n",
       "      <td>9.2</td>\n",
       "    </tr>\n",
       "    <tr>\n",
       "      <th>1</th>\n",
       "      <td>Belgium</td>\n",
       "      <td>Females</td>\n",
       "      <td>From 16 to 24 years</td>\n",
       "      <td>12.5</td>\n",
       "    </tr>\n",
       "    <tr>\n",
       "      <th>2</th>\n",
       "      <td>Belgium</td>\n",
       "      <td>Males</td>\n",
       "      <td>From 25 to 34 years</td>\n",
       "      <td>12.4</td>\n",
       "    </tr>\n",
       "    <tr>\n",
       "      <th>3</th>\n",
       "      <td>Belgium</td>\n",
       "      <td>Females</td>\n",
       "      <td>From 25 to 34 years</td>\n",
       "      <td>12.6</td>\n",
       "    </tr>\n",
       "    <tr>\n",
       "      <th>4</th>\n",
       "      <td>Belgium</td>\n",
       "      <td>Males</td>\n",
       "      <td>From 35 to 44 years</td>\n",
       "      <td>18.4</td>\n",
       "    </tr>\n",
       "  </tbody>\n",
       "</table>\n",
       "</div>"
      ],
      "text/plain": [
       "       GEO      SEX                  AGE  Chron_ill_pct\n",
       "0  Belgium    Males  From 16 to 24 years            9.2\n",
       "1  Belgium  Females  From 16 to 24 years           12.5\n",
       "2  Belgium    Males  From 25 to 34 years           12.4\n",
       "3  Belgium  Females  From 25 to 34 years           12.6\n",
       "4  Belgium    Males  From 35 to 44 years           18.4"
      ]
     },
     "execution_count": 86,
     "metadata": {},
     "output_type": "execute_result"
    }
   ],
   "source": [
    "df_corregir_Chronic.head()"
   ]
  },
  {
   "cell_type": "code",
   "execution_count": null,
   "metadata": {},
   "outputs": [],
   "source": []
  },
  {
   "cell_type": "markdown",
   "metadata": {},
   "source": [
    "**Valores variable 'AGE', con el primero de ellos erroneo**:"
   ]
  },
  {
   "cell_type": "code",
   "execution_count": 87,
   "metadata": {},
   "outputs": [
    {
     "data": {
      "text/plain": [
       "array(['From 16 to 24 years', 'From 25 to 34 years',\n",
       "       'From 35 to 44 years', 'From 45 to 64 years', '65 years or over'],\n",
       "      dtype=object)"
      ]
     },
     "execution_count": 87,
     "metadata": {},
     "output_type": "execute_result"
    }
   ],
   "source": [
    "df_corregir_Chronic.AGE.unique()"
   ]
  },
  {
   "cell_type": "code",
   "execution_count": null,
   "metadata": {},
   "outputs": [],
   "source": []
  },
  {
   "cell_type": "markdown",
   "metadata": {},
   "source": [
    "**Corrección del primer valor:**"
   ]
  },
  {
   "cell_type": "code",
   "execution_count": 88,
   "metadata": {},
   "outputs": [
    {
     "data": {
      "text/plain": [
       "array(['From 15 to 24 years', 'From 25 to 34 years',\n",
       "       'From 35 to 44 years', 'From 45 to 64 years', '65 years or over'],\n",
       "      dtype=object)"
      ]
     },
     "execution_count": 88,
     "metadata": {},
     "output_type": "execute_result"
    }
   ],
   "source": [
    "df_corregir_Chronic.replace(to_replace='From 16 to 24 years', value='From 15 to 24 years',inplace=True)\n",
    "df_corregir_Chronic.AGE.unique()\n"
   ]
  },
  {
   "cell_type": "code",
   "execution_count": null,
   "metadata": {},
   "outputs": [],
   "source": []
  },
  {
   "cell_type": "markdown",
   "metadata": {},
   "source": [
    "Comprobamos:"
   ]
  },
  {
   "cell_type": "code",
   "execution_count": 89,
   "metadata": {},
   "outputs": [
    {
     "data": {
      "text/html": [
       "<div>\n",
       "<style scoped>\n",
       "    .dataframe tbody tr th:only-of-type {\n",
       "        vertical-align: middle;\n",
       "    }\n",
       "\n",
       "    .dataframe tbody tr th {\n",
       "        vertical-align: top;\n",
       "    }\n",
       "\n",
       "    .dataframe thead th {\n",
       "        text-align: right;\n",
       "    }\n",
       "</style>\n",
       "<table border=\"1\" class=\"dataframe\">\n",
       "  <thead>\n",
       "    <tr style=\"text-align: right;\">\n",
       "      <th></th>\n",
       "      <th>GEO</th>\n",
       "      <th>SEX</th>\n",
       "      <th>AGE</th>\n",
       "      <th>Chron_ill_pct</th>\n",
       "    </tr>\n",
       "  </thead>\n",
       "  <tbody>\n",
       "    <tr>\n",
       "      <th>0</th>\n",
       "      <td>Belgium</td>\n",
       "      <td>Males</td>\n",
       "      <td>From 15 to 24 years</td>\n",
       "      <td>9.2</td>\n",
       "    </tr>\n",
       "    <tr>\n",
       "      <th>1</th>\n",
       "      <td>Belgium</td>\n",
       "      <td>Females</td>\n",
       "      <td>From 15 to 24 years</td>\n",
       "      <td>12.5</td>\n",
       "    </tr>\n",
       "    <tr>\n",
       "      <th>2</th>\n",
       "      <td>Belgium</td>\n",
       "      <td>Males</td>\n",
       "      <td>From 25 to 34 years</td>\n",
       "      <td>12.4</td>\n",
       "    </tr>\n",
       "    <tr>\n",
       "      <th>3</th>\n",
       "      <td>Belgium</td>\n",
       "      <td>Females</td>\n",
       "      <td>From 25 to 34 years</td>\n",
       "      <td>12.6</td>\n",
       "    </tr>\n",
       "    <tr>\n",
       "      <th>4</th>\n",
       "      <td>Belgium</td>\n",
       "      <td>Males</td>\n",
       "      <td>From 35 to 44 years</td>\n",
       "      <td>18.4</td>\n",
       "    </tr>\n",
       "    <tr>\n",
       "      <th>5</th>\n",
       "      <td>Belgium</td>\n",
       "      <td>Females</td>\n",
       "      <td>From 35 to 44 years</td>\n",
       "      <td>20.1</td>\n",
       "    </tr>\n",
       "    <tr>\n",
       "      <th>6</th>\n",
       "      <td>Belgium</td>\n",
       "      <td>Males</td>\n",
       "      <td>From 45 to 64 years</td>\n",
       "      <td>28.0</td>\n",
       "    </tr>\n",
       "    <tr>\n",
       "      <th>7</th>\n",
       "      <td>Belgium</td>\n",
       "      <td>Females</td>\n",
       "      <td>From 45 to 64 years</td>\n",
       "      <td>31.2</td>\n",
       "    </tr>\n",
       "    <tr>\n",
       "      <th>8</th>\n",
       "      <td>Belgium</td>\n",
       "      <td>Males</td>\n",
       "      <td>65 years or over</td>\n",
       "      <td>38.2</td>\n",
       "    </tr>\n",
       "    <tr>\n",
       "      <th>9</th>\n",
       "      <td>Belgium</td>\n",
       "      <td>Females</td>\n",
       "      <td>65 years or over</td>\n",
       "      <td>42.5</td>\n",
       "    </tr>\n",
       "    <tr>\n",
       "      <th>10</th>\n",
       "      <td>Bulgaria</td>\n",
       "      <td>Males</td>\n",
       "      <td>From 15 to 24 years</td>\n",
       "      <td>3.8</td>\n",
       "    </tr>\n",
       "    <tr>\n",
       "      <th>11</th>\n",
       "      <td>Bulgaria</td>\n",
       "      <td>Females</td>\n",
       "      <td>From 15 to 24 years</td>\n",
       "      <td>2.2</td>\n",
       "    </tr>\n",
       "    <tr>\n",
       "      <th>12</th>\n",
       "      <td>Bulgaria</td>\n",
       "      <td>Males</td>\n",
       "      <td>From 25 to 34 years</td>\n",
       "      <td>5.8</td>\n",
       "    </tr>\n",
       "    <tr>\n",
       "      <th>13</th>\n",
       "      <td>Bulgaria</td>\n",
       "      <td>Females</td>\n",
       "      <td>From 25 to 34 years</td>\n",
       "      <td>2.4</td>\n",
       "    </tr>\n",
       "    <tr>\n",
       "      <th>14</th>\n",
       "      <td>Bulgaria</td>\n",
       "      <td>Males</td>\n",
       "      <td>From 35 to 44 years</td>\n",
       "      <td>7.4</td>\n",
       "    </tr>\n",
       "    <tr>\n",
       "      <th>15</th>\n",
       "      <td>Bulgaria</td>\n",
       "      <td>Females</td>\n",
       "      <td>From 35 to 44 years</td>\n",
       "      <td>7.3</td>\n",
       "    </tr>\n",
       "    <tr>\n",
       "      <th>16</th>\n",
       "      <td>Bulgaria</td>\n",
       "      <td>Males</td>\n",
       "      <td>From 45 to 64 years</td>\n",
       "      <td>21.8</td>\n",
       "    </tr>\n",
       "    <tr>\n",
       "      <th>17</th>\n",
       "      <td>Bulgaria</td>\n",
       "      <td>Females</td>\n",
       "      <td>From 45 to 64 years</td>\n",
       "      <td>23.4</td>\n",
       "    </tr>\n",
       "    <tr>\n",
       "      <th>18</th>\n",
       "      <td>Bulgaria</td>\n",
       "      <td>Males</td>\n",
       "      <td>65 years or over</td>\n",
       "      <td>43.7</td>\n",
       "    </tr>\n",
       "    <tr>\n",
       "      <th>19</th>\n",
       "      <td>Bulgaria</td>\n",
       "      <td>Females</td>\n",
       "      <td>65 years or over</td>\n",
       "      <td>50.0</td>\n",
       "    </tr>\n",
       "  </tbody>\n",
       "</table>\n",
       "</div>"
      ],
      "text/plain": [
       "         GEO      SEX                  AGE  Chron_ill_pct\n",
       "0    Belgium    Males  From 15 to 24 years            9.2\n",
       "1    Belgium  Females  From 15 to 24 years           12.5\n",
       "2    Belgium    Males  From 25 to 34 years           12.4\n",
       "3    Belgium  Females  From 25 to 34 years           12.6\n",
       "4    Belgium    Males  From 35 to 44 years           18.4\n",
       "5    Belgium  Females  From 35 to 44 years           20.1\n",
       "6    Belgium    Males  From 45 to 64 years           28.0\n",
       "7    Belgium  Females  From 45 to 64 years           31.2\n",
       "8    Belgium    Males     65 years or over           38.2\n",
       "9    Belgium  Females     65 years or over           42.5\n",
       "10  Bulgaria    Males  From 15 to 24 years            3.8\n",
       "11  Bulgaria  Females  From 15 to 24 years            2.2\n",
       "12  Bulgaria    Males  From 25 to 34 years            5.8\n",
       "13  Bulgaria  Females  From 25 to 34 years            2.4\n",
       "14  Bulgaria    Males  From 35 to 44 years            7.4\n",
       "15  Bulgaria  Females  From 35 to 44 years            7.3\n",
       "16  Bulgaria    Males  From 45 to 64 years           21.8\n",
       "17  Bulgaria  Females  From 45 to 64 years           23.4\n",
       "18  Bulgaria    Males     65 years or over           43.7\n",
       "19  Bulgaria  Females     65 years or over           50.0"
      ]
     },
     "execution_count": 89,
     "metadata": {},
     "output_type": "execute_result"
    }
   ],
   "source": [
    "df_corregir_Chronic.head(20)"
   ]
  },
  {
   "cell_type": "code",
   "execution_count": 90,
   "metadata": {},
   "outputs": [
    {
     "data": {
      "text/html": [
       "<div>\n",
       "<style scoped>\n",
       "    .dataframe tbody tr th:only-of-type {\n",
       "        vertical-align: middle;\n",
       "    }\n",
       "\n",
       "    .dataframe tbody tr th {\n",
       "        vertical-align: top;\n",
       "    }\n",
       "\n",
       "    .dataframe thead th {\n",
       "        text-align: right;\n",
       "    }\n",
       "</style>\n",
       "<table border=\"1\" class=\"dataframe\">\n",
       "  <thead>\n",
       "    <tr style=\"text-align: right;\">\n",
       "      <th></th>\n",
       "      <th>GEO</th>\n",
       "      <th>SEX</th>\n",
       "      <th>AGE</th>\n",
       "      <th>Chron_ill_pct</th>\n",
       "    </tr>\n",
       "  </thead>\n",
       "  <tbody>\n",
       "    <tr>\n",
       "      <th>290</th>\n",
       "      <td>Norway</td>\n",
       "      <td>Males</td>\n",
       "      <td>From 15 to 24 years</td>\n",
       "      <td>20.1</td>\n",
       "    </tr>\n",
       "    <tr>\n",
       "      <th>291</th>\n",
       "      <td>Norway</td>\n",
       "      <td>Females</td>\n",
       "      <td>From 15 to 24 years</td>\n",
       "      <td>25.8</td>\n",
       "    </tr>\n",
       "    <tr>\n",
       "      <th>292</th>\n",
       "      <td>Norway</td>\n",
       "      <td>Males</td>\n",
       "      <td>From 25 to 34 years</td>\n",
       "      <td>19.5</td>\n",
       "    </tr>\n",
       "    <tr>\n",
       "      <th>293</th>\n",
       "      <td>Norway</td>\n",
       "      <td>Females</td>\n",
       "      <td>From 25 to 34 years</td>\n",
       "      <td>24.4</td>\n",
       "    </tr>\n",
       "    <tr>\n",
       "      <th>294</th>\n",
       "      <td>Norway</td>\n",
       "      <td>Males</td>\n",
       "      <td>From 35 to 44 years</td>\n",
       "      <td>23.4</td>\n",
       "    </tr>\n",
       "    <tr>\n",
       "      <th>295</th>\n",
       "      <td>Norway</td>\n",
       "      <td>Females</td>\n",
       "      <td>From 35 to 44 years</td>\n",
       "      <td>36.1</td>\n",
       "    </tr>\n",
       "    <tr>\n",
       "      <th>296</th>\n",
       "      <td>Norway</td>\n",
       "      <td>Males</td>\n",
       "      <td>From 45 to 64 years</td>\n",
       "      <td>30.6</td>\n",
       "    </tr>\n",
       "    <tr>\n",
       "      <th>297</th>\n",
       "      <td>Norway</td>\n",
       "      <td>Females</td>\n",
       "      <td>From 45 to 64 years</td>\n",
       "      <td>41.4</td>\n",
       "    </tr>\n",
       "    <tr>\n",
       "      <th>298</th>\n",
       "      <td>Norway</td>\n",
       "      <td>Males</td>\n",
       "      <td>65 years or over</td>\n",
       "      <td>43.3</td>\n",
       "    </tr>\n",
       "    <tr>\n",
       "      <th>299</th>\n",
       "      <td>Norway</td>\n",
       "      <td>Females</td>\n",
       "      <td>65 years or over</td>\n",
       "      <td>49.6</td>\n",
       "    </tr>\n",
       "    <tr>\n",
       "      <th>300</th>\n",
       "      <td>Turkey</td>\n",
       "      <td>Males</td>\n",
       "      <td>From 15 to 24 years</td>\n",
       "      <td>9.6</td>\n",
       "    </tr>\n",
       "    <tr>\n",
       "      <th>301</th>\n",
       "      <td>Turkey</td>\n",
       "      <td>Females</td>\n",
       "      <td>From 15 to 24 years</td>\n",
       "      <td>8.8</td>\n",
       "    </tr>\n",
       "    <tr>\n",
       "      <th>302</th>\n",
       "      <td>Turkey</td>\n",
       "      <td>Males</td>\n",
       "      <td>From 25 to 34 years</td>\n",
       "      <td>14.1</td>\n",
       "    </tr>\n",
       "    <tr>\n",
       "      <th>303</th>\n",
       "      <td>Turkey</td>\n",
       "      <td>Females</td>\n",
       "      <td>From 25 to 34 years</td>\n",
       "      <td>16.7</td>\n",
       "    </tr>\n",
       "    <tr>\n",
       "      <th>304</th>\n",
       "      <td>Turkey</td>\n",
       "      <td>Males</td>\n",
       "      <td>From 35 to 44 years</td>\n",
       "      <td>25.1</td>\n",
       "    </tr>\n",
       "    <tr>\n",
       "      <th>305</th>\n",
       "      <td>Turkey</td>\n",
       "      <td>Females</td>\n",
       "      <td>From 35 to 44 years</td>\n",
       "      <td>32.9</td>\n",
       "    </tr>\n",
       "    <tr>\n",
       "      <th>306</th>\n",
       "      <td>Turkey</td>\n",
       "      <td>Males</td>\n",
       "      <td>From 45 to 64 years</td>\n",
       "      <td>44.8</td>\n",
       "    </tr>\n",
       "    <tr>\n",
       "      <th>307</th>\n",
       "      <td>Turkey</td>\n",
       "      <td>Females</td>\n",
       "      <td>From 45 to 64 years</td>\n",
       "      <td>60.3</td>\n",
       "    </tr>\n",
       "    <tr>\n",
       "      <th>308</th>\n",
       "      <td>Turkey</td>\n",
       "      <td>Males</td>\n",
       "      <td>65 years or over</td>\n",
       "      <td>76.2</td>\n",
       "    </tr>\n",
       "    <tr>\n",
       "      <th>309</th>\n",
       "      <td>Turkey</td>\n",
       "      <td>Females</td>\n",
       "      <td>65 years or over</td>\n",
       "      <td>87.3</td>\n",
       "    </tr>\n",
       "  </tbody>\n",
       "</table>\n",
       "</div>"
      ],
      "text/plain": [
       "        GEO      SEX                  AGE  Chron_ill_pct\n",
       "290  Norway    Males  From 15 to 24 years           20.1\n",
       "291  Norway  Females  From 15 to 24 years           25.8\n",
       "292  Norway    Males  From 25 to 34 years           19.5\n",
       "293  Norway  Females  From 25 to 34 years           24.4\n",
       "294  Norway    Males  From 35 to 44 years           23.4\n",
       "295  Norway  Females  From 35 to 44 years           36.1\n",
       "296  Norway    Males  From 45 to 64 years           30.6\n",
       "297  Norway  Females  From 45 to 64 years           41.4\n",
       "298  Norway    Males     65 years or over           43.3\n",
       "299  Norway  Females     65 years or over           49.6\n",
       "300  Turkey    Males  From 15 to 24 years            9.6\n",
       "301  Turkey  Females  From 15 to 24 years            8.8\n",
       "302  Turkey    Males  From 25 to 34 years           14.1\n",
       "303  Turkey  Females  From 25 to 34 years           16.7\n",
       "304  Turkey    Males  From 35 to 44 years           25.1\n",
       "305  Turkey  Females  From 35 to 44 years           32.9\n",
       "306  Turkey    Males  From 45 to 64 years           44.8\n",
       "307  Turkey  Females  From 45 to 64 years           60.3\n",
       "308  Turkey    Males     65 years or over           76.2\n",
       "309  Turkey  Females     65 years or over           87.3"
      ]
     },
     "execution_count": 90,
     "metadata": {},
     "output_type": "execute_result"
    }
   ],
   "source": [
    "df_corregir_Chronic.tail(20)"
   ]
  },
  {
   "cell_type": "code",
   "execution_count": 91,
   "metadata": {},
   "outputs": [
    {
     "name": "stdout",
     "output_type": "stream",
     "text": [
      "<class 'pandas.core.frame.DataFrame'>\n",
      "RangeIndex: 310 entries, 0 to 309\n",
      "Data columns (total 4 columns):\n",
      "GEO              310 non-null object\n",
      "SEX              310 non-null object\n",
      "AGE              310 non-null object\n",
      "Chron_ill_pct    310 non-null float64\n",
      "dtypes: float64(1), object(3)\n",
      "memory usage: 9.8+ KB\n"
     ]
    }
   ],
   "source": [
    "df_corregir_Chronic.info()"
   ]
  },
  {
   "cell_type": "code",
   "execution_count": null,
   "metadata": {},
   "outputs": [],
   "source": []
  },
  {
   "cell_type": "markdown",
   "metadata": {},
   "source": [
    "Finalmente guardamos archivo:"
   ]
  },
  {
   "cell_type": "code",
   "execution_count": 93,
   "metadata": {},
   "outputs": [],
   "source": [
    "df_corregir_Chronic.to_csv('./data/procesado/base_Chronic_illness_formateado.csv',index=False)"
   ]
  },
  {
   "cell_type": "code",
   "execution_count": null,
   "metadata": {},
   "outputs": [],
   "source": []
  },
  {
   "cell_type": "code",
   "execution_count": null,
   "metadata": {},
   "outputs": [],
   "source": []
  },
  {
   "cell_type": "markdown",
   "metadata": {},
   "source": [
    "### Procesado particular, tabla \"Health Care Expenditure\""
   ]
  },
  {
   "cell_type": "markdown",
   "metadata": {},
   "source": [
    "El gasto sanitario no distingue por sexo ni grupo de edad. Debemos poner el valor correspondiente a todas las observaciones de un mismo pais en el archivo final."
   ]
  },
  {
   "cell_type": "markdown",
   "metadata": {},
   "source": [
    "**Tomamos uno de los archivos ya procesados correctamente como referencia para obtener las columnas de las dimensiones con nuestro formato:**"
   ]
  },
  {
   "cell_type": "code",
   "execution_count": 57,
   "metadata": {},
   "outputs": [],
   "source": [
    "df_referencia_dim = pd.read_csv('./data/procesado/base_BMI.csv')\n",
    "df_referencia_dim = df_referencia_dim[['GEO','SEX','AGE']]"
   ]
  },
  {
   "cell_type": "code",
   "execution_count": null,
   "metadata": {},
   "outputs": [],
   "source": []
  },
  {
   "cell_type": "markdown",
   "metadata": {},
   "source": [
    "**Cargamos el archivo correspondiente al gasto sanitario:**"
   ]
  },
  {
   "cell_type": "code",
   "execution_count": 43,
   "metadata": {},
   "outputs": [
    {
     "name": "stdout",
     "output_type": "stream",
     "text": [
      "<class 'pandas.core.frame.DataFrame'>\n",
      "RangeIndex: 31 entries, 0 to 30\n",
      "Data columns (total 6 columns):\n",
      "TIME                  31 non-null int64\n",
      "GEO                   31 non-null object\n",
      "UNIT                  31 non-null object\n",
      "ICHA11_HP             31 non-null object\n",
      "Value                 31 non-null float64\n",
      "Flag and Footnotes    1 non-null object\n",
      "dtypes: float64(1), int64(1), object(4)\n",
      "memory usage: 1.6+ KB\n"
     ]
    }
   ],
   "source": [
    "df_expenditure = pd.read_csv('./data/origen/hlth_sha/hlth_sha11_hp_1_Data.csv', na_values = [': u',':'])\n",
    "df_expenditure.info()"
   ]
  },
  {
   "cell_type": "code",
   "execution_count": null,
   "metadata": {},
   "outputs": [],
   "source": []
  },
  {
   "cell_type": "markdown",
   "metadata": {},
   "source": [
    "**OJO: nos han 'cambiado' Turquía por Liechtenstein**"
   ]
  },
  {
   "cell_type": "code",
   "execution_count": 44,
   "metadata": {},
   "outputs": [
    {
     "data": {
      "text/plain": [
       "{'Turkey'}"
      ]
     },
     "execution_count": 44,
     "metadata": {},
     "output_type": "execute_result"
    }
   ],
   "source": [
    "PAISES_ESTUDIO - set(df_expenditure.GEO.unique())"
   ]
  },
  {
   "cell_type": "code",
   "execution_count": 45,
   "metadata": {},
   "outputs": [
    {
     "data": {
      "text/plain": [
       "{'Liechtenstein'}"
      ]
     },
     "execution_count": 45,
     "metadata": {},
     "output_type": "execute_result"
    }
   ],
   "source": [
    "set(df_expenditure.GEO.unique()) - PAISES_ESTUDIO"
   ]
  },
  {
   "cell_type": "code",
   "execution_count": 46,
   "metadata": {},
   "outputs": [
    {
     "data": {
      "text/html": [
       "<div>\n",
       "<style scoped>\n",
       "    .dataframe tbody tr th:only-of-type {\n",
       "        vertical-align: middle;\n",
       "    }\n",
       "\n",
       "    .dataframe tbody tr th {\n",
       "        vertical-align: top;\n",
       "    }\n",
       "\n",
       "    .dataframe thead th {\n",
       "        text-align: right;\n",
       "    }\n",
       "</style>\n",
       "<table border=\"1\" class=\"dataframe\">\n",
       "  <thead>\n",
       "    <tr style=\"text-align: right;\">\n",
       "      <th></th>\n",
       "      <th>TIME</th>\n",
       "      <th>GEO</th>\n",
       "      <th>UNIT</th>\n",
       "      <th>ICHA11_HP</th>\n",
       "      <th>Value</th>\n",
       "      <th>Flag and Footnotes</th>\n",
       "    </tr>\n",
       "  </thead>\n",
       "  <tbody>\n",
       "    <tr>\n",
       "      <th>26</th>\n",
       "      <td>2014</td>\n",
       "      <td>Sweden</td>\n",
       "      <td>Percentage of gross domestic product (GDP)</td>\n",
       "      <td>All providers of health care</td>\n",
       "      <td>10.95</td>\n",
       "      <td>NaN</td>\n",
       "    </tr>\n",
       "    <tr>\n",
       "      <th>27</th>\n",
       "      <td>2014</td>\n",
       "      <td>United Kingdom</td>\n",
       "      <td>Percentage of gross domestic product (GDP)</td>\n",
       "      <td>All providers of health care</td>\n",
       "      <td>9.96</td>\n",
       "      <td>NaN</td>\n",
       "    </tr>\n",
       "    <tr>\n",
       "      <th>28</th>\n",
       "      <td>2014</td>\n",
       "      <td>Iceland</td>\n",
       "      <td>Percentage of gross domestic product (GDP)</td>\n",
       "      <td>All providers of health care</td>\n",
       "      <td>8.28</td>\n",
       "      <td>NaN</td>\n",
       "    </tr>\n",
       "    <tr>\n",
       "      <th>29</th>\n",
       "      <td>2014</td>\n",
       "      <td>Liechtenstein</td>\n",
       "      <td>Percentage of gross domestic product (GDP)</td>\n",
       "      <td>All providers of health care</td>\n",
       "      <td>5.64</td>\n",
       "      <td>NaN</td>\n",
       "    </tr>\n",
       "    <tr>\n",
       "      <th>30</th>\n",
       "      <td>2014</td>\n",
       "      <td>Norway</td>\n",
       "      <td>Percentage of gross domestic product (GDP)</td>\n",
       "      <td>All providers of health care</td>\n",
       "      <td>9.34</td>\n",
       "      <td>NaN</td>\n",
       "    </tr>\n",
       "  </tbody>\n",
       "</table>\n",
       "</div>"
      ],
      "text/plain": [
       "    TIME             GEO                                        UNIT  \\\n",
       "26  2014          Sweden  Percentage of gross domestic product (GDP)   \n",
       "27  2014  United Kingdom  Percentage of gross domestic product (GDP)   \n",
       "28  2014         Iceland  Percentage of gross domestic product (GDP)   \n",
       "29  2014   Liechtenstein  Percentage of gross domestic product (GDP)   \n",
       "30  2014          Norway  Percentage of gross domestic product (GDP)   \n",
       "\n",
       "                       ICHA11_HP  Value Flag and Footnotes  \n",
       "26  All providers of health care  10.95                NaN  \n",
       "27  All providers of health care   9.96                NaN  \n",
       "28  All providers of health care   8.28                NaN  \n",
       "29  All providers of health care   5.64                NaN  \n",
       "30  All providers of health care   9.34                NaN  "
      ]
     },
     "execution_count": 46,
     "metadata": {},
     "output_type": "execute_result"
    }
   ],
   "source": [
    "df_expenditure.tail()"
   ]
  },
  {
   "cell_type": "code",
   "execution_count": null,
   "metadata": {},
   "outputs": [],
   "source": []
  },
  {
   "cell_type": "markdown",
   "metadata": {},
   "source": [
    "**Eliminamos la sobrante (no pertenece a los paises del estudio) Liechtenstein:**"
   ]
  },
  {
   "cell_type": "code",
   "execution_count": 47,
   "metadata": {},
   "outputs": [
    {
     "data": {
      "text/html": [
       "<div>\n",
       "<style scoped>\n",
       "    .dataframe tbody tr th:only-of-type {\n",
       "        vertical-align: middle;\n",
       "    }\n",
       "\n",
       "    .dataframe tbody tr th {\n",
       "        vertical-align: top;\n",
       "    }\n",
       "\n",
       "    .dataframe thead th {\n",
       "        text-align: right;\n",
       "    }\n",
       "</style>\n",
       "<table border=\"1\" class=\"dataframe\">\n",
       "  <thead>\n",
       "    <tr style=\"text-align: right;\">\n",
       "      <th></th>\n",
       "      <th>TIME</th>\n",
       "      <th>GEO</th>\n",
       "      <th>UNIT</th>\n",
       "      <th>ICHA11_HP</th>\n",
       "      <th>Value</th>\n",
       "      <th>Flag and Footnotes</th>\n",
       "    </tr>\n",
       "  </thead>\n",
       "  <tbody>\n",
       "    <tr>\n",
       "      <th>25</th>\n",
       "      <td>2014</td>\n",
       "      <td>Finland</td>\n",
       "      <td>Percentage of gross domestic product (GDP)</td>\n",
       "      <td>All providers of health care</td>\n",
       "      <td>9.49</td>\n",
       "      <td>NaN</td>\n",
       "    </tr>\n",
       "    <tr>\n",
       "      <th>26</th>\n",
       "      <td>2014</td>\n",
       "      <td>Sweden</td>\n",
       "      <td>Percentage of gross domestic product (GDP)</td>\n",
       "      <td>All providers of health care</td>\n",
       "      <td>10.95</td>\n",
       "      <td>NaN</td>\n",
       "    </tr>\n",
       "    <tr>\n",
       "      <th>27</th>\n",
       "      <td>2014</td>\n",
       "      <td>United Kingdom</td>\n",
       "      <td>Percentage of gross domestic product (GDP)</td>\n",
       "      <td>All providers of health care</td>\n",
       "      <td>9.96</td>\n",
       "      <td>NaN</td>\n",
       "    </tr>\n",
       "    <tr>\n",
       "      <th>28</th>\n",
       "      <td>2014</td>\n",
       "      <td>Iceland</td>\n",
       "      <td>Percentage of gross domestic product (GDP)</td>\n",
       "      <td>All providers of health care</td>\n",
       "      <td>8.28</td>\n",
       "      <td>NaN</td>\n",
       "    </tr>\n",
       "    <tr>\n",
       "      <th>30</th>\n",
       "      <td>2014</td>\n",
       "      <td>Norway</td>\n",
       "      <td>Percentage of gross domestic product (GDP)</td>\n",
       "      <td>All providers of health care</td>\n",
       "      <td>9.34</td>\n",
       "      <td>NaN</td>\n",
       "    </tr>\n",
       "  </tbody>\n",
       "</table>\n",
       "</div>"
      ],
      "text/plain": [
       "    TIME             GEO                                        UNIT  \\\n",
       "25  2014         Finland  Percentage of gross domestic product (GDP)   \n",
       "26  2014          Sweden  Percentage of gross domestic product (GDP)   \n",
       "27  2014  United Kingdom  Percentage of gross domestic product (GDP)   \n",
       "28  2014         Iceland  Percentage of gross domestic product (GDP)   \n",
       "30  2014          Norway  Percentage of gross domestic product (GDP)   \n",
       "\n",
       "                       ICHA11_HP  Value Flag and Footnotes  \n",
       "25  All providers of health care   9.49                NaN  \n",
       "26  All providers of health care  10.95                NaN  \n",
       "27  All providers of health care   9.96                NaN  \n",
       "28  All providers of health care   8.28                NaN  \n",
       "30  All providers of health care   9.34                NaN  "
      ]
     },
     "execution_count": 47,
     "metadata": {},
     "output_type": "execute_result"
    }
   ],
   "source": [
    "df_expenditure.drop(index=29, inplace=True)\n",
    "df_expenditure.tail()"
   ]
  },
  {
   "cell_type": "code",
   "execution_count": null,
   "metadata": {},
   "outputs": [],
   "source": []
  },
  {
   "cell_type": "markdown",
   "metadata": {},
   "source": [
    "**Para obtener el dato de Turquía buscamos una fuente solvente en internet. Segun datos de la WHO (World Health Organization Global Health Expenditure database) ( apps.who.int/nha/database ) citados en:**\n",
    "\n",
    "https://data.worldbank.org/indicator/SH.XPD.CHEX.GD.ZS?locations=TR\n",
    "\n",
    "\n",
    "Current health expenditure (% of GDP) - Turkey (2014): 4.347 \n",
    "\n",
    "Añadimos el registro que faltaba (Turquia) con este valor:\n"
   ]
  },
  {
   "cell_type": "code",
   "execution_count": 53,
   "metadata": {},
   "outputs": [
    {
     "data": {
      "text/html": [
       "<div>\n",
       "<style scoped>\n",
       "    .dataframe tbody tr th:only-of-type {\n",
       "        vertical-align: middle;\n",
       "    }\n",
       "\n",
       "    .dataframe tbody tr th {\n",
       "        vertical-align: top;\n",
       "    }\n",
       "\n",
       "    .dataframe thead th {\n",
       "        text-align: right;\n",
       "    }\n",
       "</style>\n",
       "<table border=\"1\" class=\"dataframe\">\n",
       "  <thead>\n",
       "    <tr style=\"text-align: right;\">\n",
       "      <th></th>\n",
       "      <th>TIME</th>\n",
       "      <th>GEO</th>\n",
       "      <th>UNIT</th>\n",
       "      <th>ICHA11_HP</th>\n",
       "      <th>Value</th>\n",
       "      <th>Flag and Footnotes</th>\n",
       "    </tr>\n",
       "  </thead>\n",
       "  <tbody>\n",
       "    <tr>\n",
       "      <th>26</th>\n",
       "      <td>2014</td>\n",
       "      <td>Sweden</td>\n",
       "      <td>Percentage of gross domestic product (GDP)</td>\n",
       "      <td>All providers of health care</td>\n",
       "      <td>10.95</td>\n",
       "      <td>NaN</td>\n",
       "    </tr>\n",
       "    <tr>\n",
       "      <th>27</th>\n",
       "      <td>2014</td>\n",
       "      <td>United Kingdom</td>\n",
       "      <td>Percentage of gross domestic product (GDP)</td>\n",
       "      <td>All providers of health care</td>\n",
       "      <td>9.96</td>\n",
       "      <td>NaN</td>\n",
       "    </tr>\n",
       "    <tr>\n",
       "      <th>28</th>\n",
       "      <td>2014</td>\n",
       "      <td>Iceland</td>\n",
       "      <td>Percentage of gross domestic product (GDP)</td>\n",
       "      <td>All providers of health care</td>\n",
       "      <td>8.28</td>\n",
       "      <td>NaN</td>\n",
       "    </tr>\n",
       "    <tr>\n",
       "      <th>29</th>\n",
       "      <td>2014</td>\n",
       "      <td>Norway</td>\n",
       "      <td>Percentage of gross domestic product (GDP)</td>\n",
       "      <td>All providers of health care</td>\n",
       "      <td>9.34</td>\n",
       "      <td>NaN</td>\n",
       "    </tr>\n",
       "    <tr>\n",
       "      <th>30</th>\n",
       "      <td>2014</td>\n",
       "      <td>Turkey</td>\n",
       "      <td>Percentage of gross domestic product (GDP)</td>\n",
       "      <td>All providers of health care</td>\n",
       "      <td>4.35</td>\n",
       "      <td>NaN</td>\n",
       "    </tr>\n",
       "  </tbody>\n",
       "</table>\n",
       "</div>"
      ],
      "text/plain": [
       "    TIME             GEO                                        UNIT  \\\n",
       "26  2014          Sweden  Percentage of gross domestic product (GDP)   \n",
       "27  2014  United Kingdom  Percentage of gross domestic product (GDP)   \n",
       "28  2014         Iceland  Percentage of gross domestic product (GDP)   \n",
       "29  2014          Norway  Percentage of gross domestic product (GDP)   \n",
       "30  2014          Turkey  Percentage of gross domestic product (GDP)   \n",
       "\n",
       "                       ICHA11_HP  Value Flag and Footnotes  \n",
       "26  All providers of health care  10.95                NaN  \n",
       "27  All providers of health care   9.96                NaN  \n",
       "28  All providers of health care   8.28                NaN  \n",
       "29  All providers of health care   9.34                NaN  \n",
       "30  All providers of health care   4.35                NaN  "
      ]
     },
     "execution_count": 53,
     "metadata": {},
     "output_type": "execute_result"
    }
   ],
   "source": [
    "df_expenditure = df_expenditure.append({'TIME': 2014, 'GEO': 'Turkey', 'UNIT': 'Percentage of gross domestic product (GDP)', \\\n",
    "                                        'ICHA11_HP': 'All providers of health care', 'Value': 4.35, \\\n",
    "                                        'Flag and Footnotes':'NaN'}, ignore_index=True)\n",
    "\n",
    "df_expenditure.tail()"
   ]
  },
  {
   "cell_type": "code",
   "execution_count": null,
   "metadata": {},
   "outputs": [],
   "source": []
  },
  {
   "cell_type": "markdown",
   "metadata": {},
   "source": [
    "**Comprobamos de nuevo los países:**"
   ]
  },
  {
   "cell_type": "code",
   "execution_count": 54,
   "metadata": {},
   "outputs": [
    {
     "data": {
      "text/plain": [
       "31"
      ]
     },
     "execution_count": 54,
     "metadata": {},
     "output_type": "execute_result"
    }
   ],
   "source": [
    "len(df_expenditure.GEO.unique())"
   ]
  },
  {
   "cell_type": "code",
   "execution_count": 55,
   "metadata": {},
   "outputs": [
    {
     "data": {
      "text/plain": [
       "set()"
      ]
     },
     "execution_count": 55,
     "metadata": {},
     "output_type": "execute_result"
    }
   ],
   "source": [
    "PAISES_ESTUDIO - set(df_expenditure.GEO.unique())"
   ]
  },
  {
   "cell_type": "code",
   "execution_count": 56,
   "metadata": {},
   "outputs": [
    {
     "data": {
      "text/plain": [
       "array(['Belgium', 'Bulgaria', 'Czechia', 'Denmark',\n",
       "       'Germany (until 1990 former territory of the FRG)', 'Estonia',\n",
       "       'Ireland', 'Greece', 'Spain', 'France', 'Croatia', 'Italy',\n",
       "       'Cyprus', 'Latvia', 'Lithuania', 'Luxembourg', 'Hungary', 'Malta',\n",
       "       'Netherlands', 'Austria', 'Poland', 'Portugal', 'Romania',\n",
       "       'Slovenia', 'Slovakia', 'Finland', 'Sweden', 'United Kingdom',\n",
       "       'Iceland', 'Norway', 'Turkey'], dtype=object)"
      ]
     },
     "execution_count": 56,
     "metadata": {},
     "output_type": "execute_result"
    }
   ],
   "source": [
    "df_expenditure.GEO.unique()"
   ]
  },
  {
   "cell_type": "code",
   "execution_count": null,
   "metadata": {},
   "outputs": [],
   "source": []
  },
  {
   "cell_type": "markdown",
   "metadata": {},
   "source": [
    "Paises en mismo orden de nuestro formato. **Para cada país, 2 (SEX) x 5 (AGE), 10 valores repetidos del gasto sanitario necesitamos. Creamos variable auxiliar (lista) para la columna con los valores correctos, que añadiremos al dataset final:**"
   ]
  },
  {
   "cell_type": "code",
   "execution_count": 2,
   "metadata": {},
   "outputs": [],
   "source": [
    "columna_health_expend = []\n",
    "\n",
    "for pais in df_expenditure.GEO.unique():\n",
    "    columna_health_expend.extend(list(df_expenditure.loc[df_expenditure.GEO==pais,'Value'].values)*10)\n",
    "    \n"
   ]
  },
  {
   "cell_type": "code",
   "execution_count": null,
   "metadata": {},
   "outputs": [],
   "source": []
  },
  {
   "cell_type": "markdown",
   "metadata": {},
   "source": [
    "**Solo nos falta añadir la nueva columna, que sigue nuestro orden de países, al dataset con las columnas de las dimensiones.** Añadimos y comprobamos el resultado:"
   ]
  },
  {
   "cell_type": "code",
   "execution_count": 65,
   "metadata": {},
   "outputs": [
    {
     "name": "stdout",
     "output_type": "stream",
     "text": [
      "<class 'pandas.core.frame.DataFrame'>\n",
      "RangeIndex: 310 entries, 0 to 309\n",
      "Data columns (total 3 columns):\n",
      "GEO    310 non-null object\n",
      "SEX    310 non-null object\n",
      "AGE    310 non-null object\n",
      "dtypes: object(3)\n",
      "memory usage: 7.4+ KB\n"
     ]
    }
   ],
   "source": [
    "df_referencia_dim.info()"
   ]
  },
  {
   "cell_type": "code",
   "execution_count": 66,
   "metadata": {},
   "outputs": [
    {
     "data": {
      "text/html": [
       "<div>\n",
       "<style scoped>\n",
       "    .dataframe tbody tr th:only-of-type {\n",
       "        vertical-align: middle;\n",
       "    }\n",
       "\n",
       "    .dataframe tbody tr th {\n",
       "        vertical-align: top;\n",
       "    }\n",
       "\n",
       "    .dataframe thead th {\n",
       "        text-align: right;\n",
       "    }\n",
       "</style>\n",
       "<table border=\"1\" class=\"dataframe\">\n",
       "  <thead>\n",
       "    <tr style=\"text-align: right;\">\n",
       "      <th></th>\n",
       "      <th>GEO</th>\n",
       "      <th>SEX</th>\n",
       "      <th>AGE</th>\n",
       "      <th>Health_Expend_%_GDP</th>\n",
       "    </tr>\n",
       "  </thead>\n",
       "  <tbody>\n",
       "    <tr>\n",
       "      <th>0</th>\n",
       "      <td>Belgium</td>\n",
       "      <td>Males</td>\n",
       "      <td>From 15 to 24 years</td>\n",
       "      <td>10.44</td>\n",
       "    </tr>\n",
       "    <tr>\n",
       "      <th>1</th>\n",
       "      <td>Belgium</td>\n",
       "      <td>Males</td>\n",
       "      <td>From 25 to 34 years</td>\n",
       "      <td>10.44</td>\n",
       "    </tr>\n",
       "    <tr>\n",
       "      <th>2</th>\n",
       "      <td>Belgium</td>\n",
       "      <td>Males</td>\n",
       "      <td>From 35 to 44 years</td>\n",
       "      <td>10.44</td>\n",
       "    </tr>\n",
       "    <tr>\n",
       "      <th>3</th>\n",
       "      <td>Belgium</td>\n",
       "      <td>Males</td>\n",
       "      <td>From 45 to 64 years</td>\n",
       "      <td>10.44</td>\n",
       "    </tr>\n",
       "    <tr>\n",
       "      <th>4</th>\n",
       "      <td>Belgium</td>\n",
       "      <td>Males</td>\n",
       "      <td>65 years or over</td>\n",
       "      <td>10.44</td>\n",
       "    </tr>\n",
       "    <tr>\n",
       "      <th>5</th>\n",
       "      <td>Belgium</td>\n",
       "      <td>Females</td>\n",
       "      <td>From 15 to 24 years</td>\n",
       "      <td>10.44</td>\n",
       "    </tr>\n",
       "    <tr>\n",
       "      <th>6</th>\n",
       "      <td>Belgium</td>\n",
       "      <td>Females</td>\n",
       "      <td>From 25 to 34 years</td>\n",
       "      <td>10.44</td>\n",
       "    </tr>\n",
       "    <tr>\n",
       "      <th>7</th>\n",
       "      <td>Belgium</td>\n",
       "      <td>Females</td>\n",
       "      <td>From 35 to 44 years</td>\n",
       "      <td>10.44</td>\n",
       "    </tr>\n",
       "    <tr>\n",
       "      <th>8</th>\n",
       "      <td>Belgium</td>\n",
       "      <td>Females</td>\n",
       "      <td>From 45 to 64 years</td>\n",
       "      <td>10.44</td>\n",
       "    </tr>\n",
       "    <tr>\n",
       "      <th>9</th>\n",
       "      <td>Belgium</td>\n",
       "      <td>Females</td>\n",
       "      <td>65 years or over</td>\n",
       "      <td>10.44</td>\n",
       "    </tr>\n",
       "    <tr>\n",
       "      <th>10</th>\n",
       "      <td>Bulgaria</td>\n",
       "      <td>Males</td>\n",
       "      <td>From 15 to 24 years</td>\n",
       "      <td>7.71</td>\n",
       "    </tr>\n",
       "    <tr>\n",
       "      <th>11</th>\n",
       "      <td>Bulgaria</td>\n",
       "      <td>Males</td>\n",
       "      <td>From 25 to 34 years</td>\n",
       "      <td>7.71</td>\n",
       "    </tr>\n",
       "    <tr>\n",
       "      <th>12</th>\n",
       "      <td>Bulgaria</td>\n",
       "      <td>Males</td>\n",
       "      <td>From 35 to 44 years</td>\n",
       "      <td>7.71</td>\n",
       "    </tr>\n",
       "    <tr>\n",
       "      <th>13</th>\n",
       "      <td>Bulgaria</td>\n",
       "      <td>Males</td>\n",
       "      <td>From 45 to 64 years</td>\n",
       "      <td>7.71</td>\n",
       "    </tr>\n",
       "    <tr>\n",
       "      <th>14</th>\n",
       "      <td>Bulgaria</td>\n",
       "      <td>Males</td>\n",
       "      <td>65 years or over</td>\n",
       "      <td>7.71</td>\n",
       "    </tr>\n",
       "  </tbody>\n",
       "</table>\n",
       "</div>"
      ],
      "text/plain": [
       "         GEO      SEX                  AGE  Health_Expend_%_GDP\n",
       "0    Belgium    Males  From 15 to 24 years                10.44\n",
       "1    Belgium    Males  From 25 to 34 years                10.44\n",
       "2    Belgium    Males  From 35 to 44 years                10.44\n",
       "3    Belgium    Males  From 45 to 64 years                10.44\n",
       "4    Belgium    Males     65 years or over                10.44\n",
       "5    Belgium  Females  From 15 to 24 years                10.44\n",
       "6    Belgium  Females  From 25 to 34 years                10.44\n",
       "7    Belgium  Females  From 35 to 44 years                10.44\n",
       "8    Belgium  Females  From 45 to 64 years                10.44\n",
       "9    Belgium  Females     65 years or over                10.44\n",
       "10  Bulgaria    Males  From 15 to 24 years                 7.71\n",
       "11  Bulgaria    Males  From 25 to 34 years                 7.71\n",
       "12  Bulgaria    Males  From 35 to 44 years                 7.71\n",
       "13  Bulgaria    Males  From 45 to 64 years                 7.71\n",
       "14  Bulgaria    Males     65 years or over                 7.71"
      ]
     },
     "execution_count": 66,
     "metadata": {},
     "output_type": "execute_result"
    }
   ],
   "source": [
    "df_referencia_dim['Health_Expend_%_GDP'] = columna_health_expend\n",
    "\n",
    "df_referencia_dim.head(15)\n"
   ]
  },
  {
   "cell_type": "code",
   "execution_count": 67,
   "metadata": {},
   "outputs": [
    {
     "data": {
      "text/html": [
       "<div>\n",
       "<style scoped>\n",
       "    .dataframe tbody tr th:only-of-type {\n",
       "        vertical-align: middle;\n",
       "    }\n",
       "\n",
       "    .dataframe tbody tr th {\n",
       "        vertical-align: top;\n",
       "    }\n",
       "\n",
       "    .dataframe thead th {\n",
       "        text-align: right;\n",
       "    }\n",
       "</style>\n",
       "<table border=\"1\" class=\"dataframe\">\n",
       "  <thead>\n",
       "    <tr style=\"text-align: right;\">\n",
       "      <th></th>\n",
       "      <th>GEO</th>\n",
       "      <th>SEX</th>\n",
       "      <th>AGE</th>\n",
       "      <th>Health_Expend_%_GDP</th>\n",
       "    </tr>\n",
       "  </thead>\n",
       "  <tbody>\n",
       "    <tr>\n",
       "      <th>295</th>\n",
       "      <td>Norway</td>\n",
       "      <td>Females</td>\n",
       "      <td>From 15 to 24 years</td>\n",
       "      <td>9.34</td>\n",
       "    </tr>\n",
       "    <tr>\n",
       "      <th>296</th>\n",
       "      <td>Norway</td>\n",
       "      <td>Females</td>\n",
       "      <td>From 25 to 34 years</td>\n",
       "      <td>9.34</td>\n",
       "    </tr>\n",
       "    <tr>\n",
       "      <th>297</th>\n",
       "      <td>Norway</td>\n",
       "      <td>Females</td>\n",
       "      <td>From 35 to 44 years</td>\n",
       "      <td>9.34</td>\n",
       "    </tr>\n",
       "    <tr>\n",
       "      <th>298</th>\n",
       "      <td>Norway</td>\n",
       "      <td>Females</td>\n",
       "      <td>From 45 to 64 years</td>\n",
       "      <td>9.34</td>\n",
       "    </tr>\n",
       "    <tr>\n",
       "      <th>299</th>\n",
       "      <td>Norway</td>\n",
       "      <td>Females</td>\n",
       "      <td>65 years or over</td>\n",
       "      <td>9.34</td>\n",
       "    </tr>\n",
       "    <tr>\n",
       "      <th>300</th>\n",
       "      <td>Turkey</td>\n",
       "      <td>Males</td>\n",
       "      <td>From 15 to 24 years</td>\n",
       "      <td>4.35</td>\n",
       "    </tr>\n",
       "    <tr>\n",
       "      <th>301</th>\n",
       "      <td>Turkey</td>\n",
       "      <td>Males</td>\n",
       "      <td>From 25 to 34 years</td>\n",
       "      <td>4.35</td>\n",
       "    </tr>\n",
       "    <tr>\n",
       "      <th>302</th>\n",
       "      <td>Turkey</td>\n",
       "      <td>Males</td>\n",
       "      <td>From 35 to 44 years</td>\n",
       "      <td>4.35</td>\n",
       "    </tr>\n",
       "    <tr>\n",
       "      <th>303</th>\n",
       "      <td>Turkey</td>\n",
       "      <td>Males</td>\n",
       "      <td>From 45 to 64 years</td>\n",
       "      <td>4.35</td>\n",
       "    </tr>\n",
       "    <tr>\n",
       "      <th>304</th>\n",
       "      <td>Turkey</td>\n",
       "      <td>Males</td>\n",
       "      <td>65 years or over</td>\n",
       "      <td>4.35</td>\n",
       "    </tr>\n",
       "    <tr>\n",
       "      <th>305</th>\n",
       "      <td>Turkey</td>\n",
       "      <td>Females</td>\n",
       "      <td>From 15 to 24 years</td>\n",
       "      <td>4.35</td>\n",
       "    </tr>\n",
       "    <tr>\n",
       "      <th>306</th>\n",
       "      <td>Turkey</td>\n",
       "      <td>Females</td>\n",
       "      <td>From 25 to 34 years</td>\n",
       "      <td>4.35</td>\n",
       "    </tr>\n",
       "    <tr>\n",
       "      <th>307</th>\n",
       "      <td>Turkey</td>\n",
       "      <td>Females</td>\n",
       "      <td>From 35 to 44 years</td>\n",
       "      <td>4.35</td>\n",
       "    </tr>\n",
       "    <tr>\n",
       "      <th>308</th>\n",
       "      <td>Turkey</td>\n",
       "      <td>Females</td>\n",
       "      <td>From 45 to 64 years</td>\n",
       "      <td>4.35</td>\n",
       "    </tr>\n",
       "    <tr>\n",
       "      <th>309</th>\n",
       "      <td>Turkey</td>\n",
       "      <td>Females</td>\n",
       "      <td>65 years or over</td>\n",
       "      <td>4.35</td>\n",
       "    </tr>\n",
       "  </tbody>\n",
       "</table>\n",
       "</div>"
      ],
      "text/plain": [
       "        GEO      SEX                  AGE  Health_Expend_%_GDP\n",
       "295  Norway  Females  From 15 to 24 years                 9.34\n",
       "296  Norway  Females  From 25 to 34 years                 9.34\n",
       "297  Norway  Females  From 35 to 44 years                 9.34\n",
       "298  Norway  Females  From 45 to 64 years                 9.34\n",
       "299  Norway  Females     65 years or over                 9.34\n",
       "300  Turkey    Males  From 15 to 24 years                 4.35\n",
       "301  Turkey    Males  From 25 to 34 years                 4.35\n",
       "302  Turkey    Males  From 35 to 44 years                 4.35\n",
       "303  Turkey    Males  From 45 to 64 years                 4.35\n",
       "304  Turkey    Males     65 years or over                 4.35\n",
       "305  Turkey  Females  From 15 to 24 years                 4.35\n",
       "306  Turkey  Females  From 25 to 34 years                 4.35\n",
       "307  Turkey  Females  From 35 to 44 years                 4.35\n",
       "308  Turkey  Females  From 45 to 64 years                 4.35\n",
       "309  Turkey  Females     65 years or over                 4.35"
      ]
     },
     "execution_count": 67,
     "metadata": {},
     "output_type": "execute_result"
    }
   ],
   "source": [
    "df_referencia_dim.tail(15)"
   ]
  },
  {
   "cell_type": "code",
   "execution_count": 68,
   "metadata": {},
   "outputs": [
    {
     "name": "stdout",
     "output_type": "stream",
     "text": [
      "<class 'pandas.core.frame.DataFrame'>\n",
      "RangeIndex: 310 entries, 0 to 309\n",
      "Data columns (total 4 columns):\n",
      "GEO                    310 non-null object\n",
      "SEX                    310 non-null object\n",
      "AGE                    310 non-null object\n",
      "Health_Expend_%_GDP    310 non-null float64\n",
      "dtypes: float64(1), object(3)\n",
      "memory usage: 9.8+ KB\n"
     ]
    }
   ],
   "source": [
    "df_referencia_dim.info()"
   ]
  },
  {
   "cell_type": "code",
   "execution_count": null,
   "metadata": {},
   "outputs": [],
   "source": []
  },
  {
   "cell_type": "markdown",
   "metadata": {},
   "source": [
    "**Guardamos finalmente el resultado:**"
   ]
  },
  {
   "cell_type": "code",
   "execution_count": 69,
   "metadata": {},
   "outputs": [],
   "source": [
    "df_referencia_dim.to_csv('./data/procesado/base_Hlth_Expend.csv', index=False)"
   ]
  },
  {
   "cell_type": "code",
   "execution_count": null,
   "metadata": {},
   "outputs": [],
   "source": []
  },
  {
   "cell_type": "code",
   "execution_count": null,
   "metadata": {},
   "outputs": [],
   "source": []
  },
  {
   "cell_type": "markdown",
   "metadata": {},
   "source": [
    "### Procesado particular, tabla variable dependiente SPH."
   ]
  },
  {
   "cell_type": "markdown",
   "metadata": {},
   "source": [
    "Cargamos la tabla:"
   ]
  },
  {
   "cell_type": "code",
   "execution_count": 70,
   "metadata": {},
   "outputs": [
    {
     "name": "stdout",
     "output_type": "stream",
     "text": [
      "<class 'pandas.core.frame.DataFrame'>\n",
      "RangeIndex: 310 entries, 0 to 309\n",
      "Data columns (total 9 columns):\n",
      "TIME                  310 non-null int64\n",
      "GEO                   310 non-null object\n",
      "ISCED11               310 non-null object\n",
      "AGE                   310 non-null object\n",
      "SEX                   310 non-null object\n",
      "LEVELS                310 non-null object\n",
      "UNIT                  310 non-null object\n",
      "Value                 310 non-null float64\n",
      "Flag and Footnotes    0 non-null float64\n",
      "dtypes: float64(2), int64(1), object(6)\n",
      "memory usage: 21.9+ KB\n"
     ]
    }
   ],
   "source": [
    "df_SPH = pd.read_csv('./data/origen/SPH_target/hlth_silc_02_1_Data.csv', na_values = [': u',':'])\n",
    "df_SPH.info()"
   ]
  },
  {
   "cell_type": "code",
   "execution_count": 71,
   "metadata": {},
   "outputs": [
    {
     "data": {
      "text/plain": [
       "array(['Very good or good'], dtype=object)"
      ]
     },
     "execution_count": 71,
     "metadata": {},
     "output_type": "execute_result"
    }
   ],
   "source": [
    "df_SPH.LEVELS.unique()"
   ]
  },
  {
   "cell_type": "code",
   "execution_count": null,
   "metadata": {},
   "outputs": [],
   "source": []
  },
  {
   "cell_type": "markdown",
   "metadata": {},
   "source": [
    "**Nos quedamos solo con las columnas de interés:**"
   ]
  },
  {
   "cell_type": "code",
   "execution_count": 72,
   "metadata": {},
   "outputs": [
    {
     "data": {
      "text/plain": [
       "Index(['GEO', 'SEX', 'AGE', 'Value'], dtype='object')"
      ]
     },
     "execution_count": 72,
     "metadata": {},
     "output_type": "execute_result"
    }
   ],
   "source": [
    "df_SPH = df_SPH[['GEO','SEX','AGE','Value']]\n",
    "\n",
    "df_SPH.columns"
   ]
  },
  {
   "cell_type": "code",
   "execution_count": 73,
   "metadata": {},
   "outputs": [
    {
     "name": "stdout",
     "output_type": "stream",
     "text": [
      "<class 'pandas.core.frame.DataFrame'>\n",
      "RangeIndex: 310 entries, 0 to 309\n",
      "Data columns (total 4 columns):\n",
      "GEO      310 non-null object\n",
      "SEX      310 non-null object\n",
      "AGE      310 non-null object\n",
      "Value    310 non-null float64\n",
      "dtypes: float64(1), object(3)\n",
      "memory usage: 9.8+ KB\n"
     ]
    }
   ],
   "source": [
    "df_SPH.info()"
   ]
  },
  {
   "cell_type": "code",
   "execution_count": 74,
   "metadata": {},
   "outputs": [
    {
     "data": {
      "text/plain": [
       "count    310.000000\n",
       "mean      71.444516\n",
       "std       24.017482\n",
       "min        3.000000\n",
       "25%       59.500000\n",
       "50%       80.100000\n",
       "75%       89.675000\n",
       "max       98.800000\n",
       "Name: Value, dtype: float64"
      ]
     },
     "execution_count": 74,
     "metadata": {},
     "output_type": "execute_result"
    }
   ],
   "source": [
    "df_SPH.Value.describe()"
   ]
  },
  {
   "cell_type": "code",
   "execution_count": null,
   "metadata": {},
   "outputs": [],
   "source": []
  },
  {
   "cell_type": "markdown",
   "metadata": {},
   "source": [
    "**Renombramos la columna 'Value' a su significado (SPH Good or Very Good pctg.):**"
   ]
  },
  {
   "cell_type": "code",
   "execution_count": 78,
   "metadata": {},
   "outputs": [
    {
     "data": {
      "text/plain": [
       "Index(['GEO', 'SEX', 'AGE', 'SPH_G_or_VG_pct'], dtype='object')"
      ]
     },
     "execution_count": 78,
     "metadata": {},
     "output_type": "execute_result"
    }
   ],
   "source": [
    "df_SPH.columns = ['GEO', 'SEX', 'AGE', 'SPH_G_or_VG_pct']\n",
    "df_SPH.columns"
   ]
  },
  {
   "cell_type": "code",
   "execution_count": 79,
   "metadata": {},
   "outputs": [
    {
     "data": {
      "text/html": [
       "<div>\n",
       "<style scoped>\n",
       "    .dataframe tbody tr th:only-of-type {\n",
       "        vertical-align: middle;\n",
       "    }\n",
       "\n",
       "    .dataframe tbody tr th {\n",
       "        vertical-align: top;\n",
       "    }\n",
       "\n",
       "    .dataframe thead th {\n",
       "        text-align: right;\n",
       "    }\n",
       "</style>\n",
       "<table border=\"1\" class=\"dataframe\">\n",
       "  <thead>\n",
       "    <tr style=\"text-align: right;\">\n",
       "      <th></th>\n",
       "      <th>GEO</th>\n",
       "      <th>SEX</th>\n",
       "      <th>AGE</th>\n",
       "      <th>SPH_G_or_VG_pct</th>\n",
       "    </tr>\n",
       "  </thead>\n",
       "  <tbody>\n",
       "    <tr>\n",
       "      <th>0</th>\n",
       "      <td>Belgium</td>\n",
       "      <td>Males</td>\n",
       "      <td>From 16 to 24 years</td>\n",
       "      <td>94.8</td>\n",
       "    </tr>\n",
       "    <tr>\n",
       "      <th>1</th>\n",
       "      <td>Belgium</td>\n",
       "      <td>Females</td>\n",
       "      <td>From 16 to 24 years</td>\n",
       "      <td>91.7</td>\n",
       "    </tr>\n",
       "    <tr>\n",
       "      <th>2</th>\n",
       "      <td>Belgium</td>\n",
       "      <td>Males</td>\n",
       "      <td>From 25 to 34 years</td>\n",
       "      <td>89.4</td>\n",
       "    </tr>\n",
       "    <tr>\n",
       "      <th>3</th>\n",
       "      <td>Belgium</td>\n",
       "      <td>Females</td>\n",
       "      <td>From 25 to 34 years</td>\n",
       "      <td>88.8</td>\n",
       "    </tr>\n",
       "    <tr>\n",
       "      <th>4</th>\n",
       "      <td>Belgium</td>\n",
       "      <td>Males</td>\n",
       "      <td>From 35 to 44 years</td>\n",
       "      <td>83.8</td>\n",
       "    </tr>\n",
       "    <tr>\n",
       "      <th>5</th>\n",
       "      <td>Belgium</td>\n",
       "      <td>Females</td>\n",
       "      <td>From 35 to 44 years</td>\n",
       "      <td>79.8</td>\n",
       "    </tr>\n",
       "    <tr>\n",
       "      <th>6</th>\n",
       "      <td>Belgium</td>\n",
       "      <td>Males</td>\n",
       "      <td>From 45 to 64 years</td>\n",
       "      <td>74.5</td>\n",
       "    </tr>\n",
       "    <tr>\n",
       "      <th>7</th>\n",
       "      <td>Belgium</td>\n",
       "      <td>Females</td>\n",
       "      <td>From 45 to 64 years</td>\n",
       "      <td>70.1</td>\n",
       "    </tr>\n",
       "    <tr>\n",
       "      <th>8</th>\n",
       "      <td>Belgium</td>\n",
       "      <td>Males</td>\n",
       "      <td>65 years or over</td>\n",
       "      <td>53.3</td>\n",
       "    </tr>\n",
       "    <tr>\n",
       "      <th>9</th>\n",
       "      <td>Belgium</td>\n",
       "      <td>Females</td>\n",
       "      <td>65 years or over</td>\n",
       "      <td>50.4</td>\n",
       "    </tr>\n",
       "    <tr>\n",
       "      <th>10</th>\n",
       "      <td>Bulgaria</td>\n",
       "      <td>Males</td>\n",
       "      <td>From 16 to 24 years</td>\n",
       "      <td>96.1</td>\n",
       "    </tr>\n",
       "    <tr>\n",
       "      <th>11</th>\n",
       "      <td>Bulgaria</td>\n",
       "      <td>Females</td>\n",
       "      <td>From 16 to 24 years</td>\n",
       "      <td>96.3</td>\n",
       "    </tr>\n",
       "    <tr>\n",
       "      <th>12</th>\n",
       "      <td>Bulgaria</td>\n",
       "      <td>Males</td>\n",
       "      <td>From 25 to 34 years</td>\n",
       "      <td>92.1</td>\n",
       "    </tr>\n",
       "    <tr>\n",
       "      <th>13</th>\n",
       "      <td>Bulgaria</td>\n",
       "      <td>Females</td>\n",
       "      <td>From 25 to 34 years</td>\n",
       "      <td>96.0</td>\n",
       "    </tr>\n",
       "    <tr>\n",
       "      <th>14</th>\n",
       "      <td>Bulgaria</td>\n",
       "      <td>Males</td>\n",
       "      <td>From 35 to 44 years</td>\n",
       "      <td>87.5</td>\n",
       "    </tr>\n",
       "  </tbody>\n",
       "</table>\n",
       "</div>"
      ],
      "text/plain": [
       "         GEO      SEX                  AGE  SPH_G_or_VG_pct\n",
       "0    Belgium    Males  From 16 to 24 years             94.8\n",
       "1    Belgium  Females  From 16 to 24 years             91.7\n",
       "2    Belgium    Males  From 25 to 34 years             89.4\n",
       "3    Belgium  Females  From 25 to 34 years             88.8\n",
       "4    Belgium    Males  From 35 to 44 years             83.8\n",
       "5    Belgium  Females  From 35 to 44 years             79.8\n",
       "6    Belgium    Males  From 45 to 64 years             74.5\n",
       "7    Belgium  Females  From 45 to 64 years             70.1\n",
       "8    Belgium    Males     65 years or over             53.3\n",
       "9    Belgium  Females     65 years or over             50.4\n",
       "10  Bulgaria    Males  From 16 to 24 years             96.1\n",
       "11  Bulgaria  Females  From 16 to 24 years             96.3\n",
       "12  Bulgaria    Males  From 25 to 34 years             92.1\n",
       "13  Bulgaria  Females  From 25 to 34 years             96.0\n",
       "14  Bulgaria    Males  From 35 to 44 years             87.5"
      ]
     },
     "execution_count": 79,
     "metadata": {},
     "output_type": "execute_result"
    }
   ],
   "source": [
    "df_SPH.head(15)"
   ]
  },
  {
   "cell_type": "markdown",
   "metadata": {},
   "source": [
    "**Damos formato al primer grupo de edad (al provenir de la encuesta SILC) por la misma razon y argumentación que con la variable 'Chronic illnes' anterior en este notebook:**"
   ]
  },
  {
   "cell_type": "code",
   "execution_count": 96,
   "metadata": {},
   "outputs": [
    {
     "data": {
      "text/plain": [
       "array(['From 16 to 24 years', 'From 25 to 34 years',\n",
       "       'From 35 to 44 years', 'From 45 to 64 years', '65 years or over'],\n",
       "      dtype=object)"
      ]
     },
     "execution_count": 96,
     "metadata": {},
     "output_type": "execute_result"
    }
   ],
   "source": [
    "df_SPH.AGE.unique()"
   ]
  },
  {
   "cell_type": "code",
   "execution_count": 97,
   "metadata": {},
   "outputs": [
    {
     "data": {
      "text/plain": [
       "array(['From 15 to 24 years', 'From 25 to 34 years',\n",
       "       'From 35 to 44 years', 'From 45 to 64 years', '65 years or over'],\n",
       "      dtype=object)"
      ]
     },
     "execution_count": 97,
     "metadata": {},
     "output_type": "execute_result"
    }
   ],
   "source": [
    "df_SPH.replace(to_replace='From 16 to 24 years', value='From 15 to 24 years', inplace=True)\n",
    "df_SPH.AGE.unique()\n"
   ]
  },
  {
   "cell_type": "code",
   "execution_count": null,
   "metadata": {},
   "outputs": [],
   "source": []
  },
  {
   "cell_type": "markdown",
   "metadata": {},
   "source": [
    "**Finalmente guardamos el resultado:**"
   ]
  },
  {
   "cell_type": "code",
   "execution_count": 98,
   "metadata": {},
   "outputs": [],
   "source": [
    "df_SPH.to_csv('./data/procesado/base_SPH_TARGET.csv', index=False)"
   ]
  },
  {
   "cell_type": "code",
   "execution_count": 99,
   "metadata": {},
   "outputs": [
    {
     "name": "stdout",
     "output_type": "stream",
     "text": [
      "<class 'pandas.core.frame.DataFrame'>\n",
      "RangeIndex: 310 entries, 0 to 309\n",
      "Data columns (total 4 columns):\n",
      "GEO                310 non-null object\n",
      "SEX                310 non-null object\n",
      "AGE                310 non-null object\n",
      "SPH_G_or_VG_pct    310 non-null float64\n",
      "dtypes: float64(1), object(3)\n",
      "memory usage: 9.8+ KB\n"
     ]
    }
   ],
   "source": [
    "df_SPH.info()"
   ]
  },
  {
   "cell_type": "code",
   "execution_count": 100,
   "metadata": {},
   "outputs": [
    {
     "data": {
      "text/plain": [
       "set()"
      ]
     },
     "execution_count": 100,
     "metadata": {},
     "output_type": "execute_result"
    }
   ],
   "source": [
    "PAISES_ESTUDIO - set(df_SPH.GEO)"
   ]
  },
  {
   "cell_type": "code",
   "execution_count": 101,
   "metadata": {},
   "outputs": [
    {
     "data": {
      "text/plain": [
       "31"
      ]
     },
     "execution_count": 101,
     "metadata": {},
     "output_type": "execute_result"
    }
   ],
   "source": [
    "len(df_SPH.GEO.unique())"
   ]
  },
  {
   "cell_type": "code",
   "execution_count": null,
   "metadata": {},
   "outputs": [],
   "source": []
  },
  {
   "cell_type": "code",
   "execution_count": null,
   "metadata": {},
   "outputs": [],
   "source": []
  },
  {
   "cell_type": "code",
   "execution_count": null,
   "metadata": {},
   "outputs": [],
   "source": []
  }
 ],
 "metadata": {
  "kernelspec": {
   "display_name": "Python 3",
   "language": "python",
   "name": "python3"
  },
  "language_info": {
   "codemirror_mode": {
    "name": "ipython",
    "version": 3
   },
   "file_extension": ".py",
   "mimetype": "text/x-python",
   "name": "python",
   "nbconvert_exporter": "python",
   "pygments_lexer": "ipython3",
   "version": "3.7.3"
  }
 },
 "nbformat": 4,
 "nbformat_minor": 2
}
